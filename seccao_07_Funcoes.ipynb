{
 "cells": [
  {
   "cell_type": "markdown",
   "metadata": {},
   "source": [
    "# Funções em Python\n",
    "\n",
    "## Aula-01: Definindo funções\n",
    "\n",
    "- Funções são pequenas partes do código que realizam tarefas específicas.\n",
    "\n",
    "Pode ou não receber entradas de dados e retornar uma saída de dados. Muito utesi para executar procedimentos similares por repetidas vezes.\n",
    "\n",
    "OBS: Se você escrever uma função que realiza várias tarefas dentro dela, é bom fazer uma verificação para que a função seja simplificada.\n",
    "\n",
    "Já utilizamos várias funções desde que iniciamos o curso:\n",
    "\n",
    "- print()\n",
    "- len()\n",
    "- max()\n",
    "- min()\n",
    "- count()\n",
    "- e muitas outras.\n",
    "\n"
   ]
  },
  {
   "cell_type": "code",
   "execution_count": 3,
   "metadata": {},
   "outputs": [
    {
     "name": "stdout",
     "output_type": "stream",
     "text": [
      "['verde', 'amarelo', 'azul', 'branco']\n",
      "Programação em Python: Essencial\n",
      "['verde', 'amarelo', 'azul', 'branco', 'roxo']\n"
     ]
    }
   ],
   "source": [
    "# Exemplo de utilização de funções:\n",
    "\n",
    "cores = ['verde', 'amarelo', 'azul', 'branco']\n",
    "\n",
    "# Utilizando a função integrada (Built-in) do Python print()\n",
    "\n",
    "print(cores)\n",
    "\n",
    "curso = 'Programação em Python: Essencial'\n",
    "\n",
    "print(curso)\n",
    "\n",
    "cores.append('roxo')\n",
    "print(cores)"
   ]
  },
  {
   "cell_type": "code",
   "execution_count": 4,
   "metadata": {},
   "outputs": [
    {
     "name": "stdout",
     "output_type": "stream",
     "text": [
      "Help on built-in function print in module builtins:\n",
      "\n",
      "print(*args, sep=' ', end='\\n', file=None, flush=False)\n",
      "    Prints the values to a stream, or to sys.stdout by default.\n",
      "\n",
      "    sep\n",
      "      string inserted between values, default a space.\n",
      "    end\n",
      "      string appended after the last value, default a newline.\n",
      "    file\n",
      "      a file-like object (stream); defaults to the current sys.stdout.\n",
      "    flush\n",
      "      whether to forcibly flush the stream.\n",
      "\n",
      "None\n"
     ]
    }
   ],
   "source": [
    "# para ver a documentação\n",
    "print(help(print))"
   ]
  },
  {
   "cell_type": "markdown",
   "metadata": {},
   "source": [
    "O princípio por trás das Funções é o DRY:\n",
    "\n",
    "- DRY - Don't Repeat Yourself - Não repita você mesmo/ Não repita o código"
   ]
  },
  {
   "cell_type": "markdown",
   "metadata": {},
   "source": [
    "Em Python, a forma geral de definir uma função é:\n",
    "\n",
    "def nome_da_funcao(parametros_de_entrada):\n",
    "\n",
    "        bloco_da_funcao\n",
    "\n",
    "Onde: \n",
    "\n",
    "- nome_da_funcao -> SEMPRE, com letras minúsculas, e se for nome composto, separado com underline (Snake Case);\n",
    "\n",
    "- parametros_de_entrada -> Opcionais, onde tendo mais de um, cada separado por vírgula, podendo ser opcionais ou não;\n",
    "\n",
    "- bloco_da_funcao -> Também chama do de corpo da função ou implementação, é onde o processamento da função acontece. Neste bloco, pode ter ou não retorno da função.\n",
    "\n",
    "OBS: Veja que para definir uma função, utilizamos a palavra reservada 'def' informando ao Python que estamos definingo uma função. Também abrimos o bloco de código com o já conhecido dois-pontos ':' que é utilizado em Python para definir blocos."
   ]
  },
  {
   "cell_type": "code",
   "execution_count": 6,
   "metadata": {},
   "outputs": [],
   "source": [
    "# Definindo a primeiro função\n",
    "\n",
    "def diz_oi():\n",
    "    print('oi!')"
   ]
  },
  {
   "cell_type": "markdown",
   "metadata": {},
   "source": [
    "OBS:\n",
    "\n",
    "1 - Veja que, dentro das nossas funções podemos utilizar outras funções;\n",
    "\n",
    "2 - Veja que, nossa função só executa uma tarefa;\n",
    "\n",
    "3 - Veja que está função não recebe nenhum parâmetro de entrada;\n",
    "\n",
    "4 - Veja que esta função não retorna nada"
   ]
  },
  {
   "cell_type": "code",
   "execution_count": 7,
   "metadata": {},
   "outputs": [
    {
     "name": "stdout",
     "output_type": "stream",
     "text": [
      "oi!\n"
     ]
    }
   ],
   "source": [
    "# utilizando a função\n",
    "\n",
    "diz_oi()"
   ]
  },
  {
   "cell_type": "markdown",
   "metadata": {},
   "source": [
    "ATENÇÃO:\n",
    "\n",
    "Nunca esqueça de utilizar o parênteses ao executar uma função.\n",
    "\n",
    "Errado!\n",
    "\n",
    "diz_oi\n",
    "\n",
    "diz_oi ()\n",
    "\n",
    "Certo!\n",
    "\n",
    "diz_oi()"
   ]
  },
  {
   "cell_type": "code",
   "execution_count": 8,
   "metadata": {},
   "outputs": [],
   "source": [
    "# Exemplo 2\n",
    "\n",
    "def cantar_parabens():\n",
    "    print('Parabéns para você')\n",
    "    print('Nesta data querida')\n",
    "    print('Muitas felicidades')\n",
    "    print('Muitos anos de vida')\n",
    "    print('Viva o aniversariante!')"
   ]
  },
  {
   "cell_type": "code",
   "execution_count": 9,
   "metadata": {},
   "outputs": [
    {
     "name": "stdout",
     "output_type": "stream",
     "text": [
      "Parabéns para você\n",
      "Nesta data querida\n",
      "Muitas felicidades\n",
      "Muitos anos de vida\n",
      "Viva o aniversariante!\n"
     ]
    }
   ],
   "source": [
    "cantar_parabens()"
   ]
  },
  {
   "cell_type": "code",
   "execution_count": 12,
   "metadata": {},
   "outputs": [
    {
     "name": "stdout",
     "output_type": "stream",
     "text": [
      "Parabéns para você\n",
      "Nesta data querida\n",
      "Muitas felicidades\n",
      "Muitos anos de vida\n",
      "Viva o aniversariante!\n",
      "           \n",
      "Parabéns para você\n",
      "Nesta data querida\n",
      "Muitas felicidades\n",
      "Muitos anos de vida\n",
      "Viva o aniversariante!\n",
      "           \n",
      "Parabéns para você\n",
      "Nesta data querida\n",
      "Muitas felicidades\n",
      "Muitos anos de vida\n",
      "Viva o aniversariante!\n",
      "           \n",
      "Parabéns para você\n",
      "Nesta data querida\n",
      "Muitas felicidades\n",
      "Muitos anos de vida\n",
      "Viva o aniversariante!\n",
      "           \n",
      "Parabéns para você\n",
      "Nesta data querida\n",
      "Muitas felicidades\n",
      "Muitos anos de vida\n",
      "Viva o aniversariante!\n",
      "           \n"
     ]
    }
   ],
   "source": [
    "# Exemplo com loop for\n",
    "\n",
    "for n in range(5): # repetir 5 vezes (vai de 0 a 4)\n",
    "    cantar_parabens()\n",
    "    print('           ')"
   ]
  },
  {
   "cell_type": "markdown",
   "metadata": {},
   "source": [
    "Em Python, podemos inclusive criar variáveis do tipo de uma função e executar esta função através da variável"
   ]
  },
  {
   "cell_type": "code",
   "execution_count": 15,
   "metadata": {},
   "outputs": [
    {
     "name": "stdout",
     "output_type": "stream",
     "text": [
      "Parabéns para você\n",
      "Nesta data querida\n",
      "Muitas felicidades\n",
      "Muitos anos de vida\n",
      "Viva o aniversariante!\n"
     ]
    }
   ],
   "source": [
    "canta = cantar_parabens()\n",
    "canta"
   ]
  },
  {
   "cell_type": "code",
   "execution_count": 14,
   "metadata": {},
   "outputs": [
    {
     "name": "stdout",
     "output_type": "stream",
     "text": [
      "Parabéns para você\n",
      "Nesta data querida\n",
      "Muitas felicidades\n",
      "Muitos anos de vida\n",
      "Viva o aniversariante!\n"
     ]
    }
   ],
   "source": [
    "canta = cantar_parabens\n",
    "\n",
    "canta()"
   ]
  },
  {
   "cell_type": "markdown",
   "metadata": {},
   "source": [
    "# Aula-03 Funções Com Retorno\n",
    "\n",
    "OBS: Em Python, quando uma função não retorna nenhum valor o retorno é None\n",
    "\n",
    "OBS: Funções Python que retornam valores, devem retornar estes valores com a palavra reservada return\n",
    "\n",
    "OBS: Não precisamos necessariamente criar uma variável para receber o retorno de uma função. Podemos passar a excução da função para outra funções.\n",
    "\n"
   ]
  },
  {
   "cell_type": "code",
   "execution_count": 5,
   "metadata": {},
   "outputs": [
    {
     "name": "stdout",
     "output_type": "stream",
     "text": [
      "Retorno de pop: 3\n",
      "[1, 2]\n",
      "Retorno de print:None\n"
     ]
    }
   ],
   "source": [
    "numeros = [1, 2, 3]\n",
    "\n",
    "ret = numeros.pop() # remove o ultimo elemento de uma lista\n",
    "print(f'Retorno de pop: {ret}')\n",
    "\n",
    "ret_pr = print(numeros) \n",
    "print(f'Retorno de print: {ret_pr}') # print não tem retorno"
   ]
  },
  {
   "cell_type": "code",
   "execution_count": 9,
   "metadata": {},
   "outputs": [
    {
     "name": "stdout",
     "output_type": "stream",
     "text": [
      "49\n",
      "Retorno de None\n"
     ]
    }
   ],
   "source": [
    "def quadrado_de_7():\n",
    "    print(7*7)\n",
    "\n",
    "ret = quadrado_de_7()\n",
    "print(f'Retorno de {ret}')"
   ]
  },
  {
   "cell_type": "markdown",
   "metadata": {},
   "source": [
    "Vamos refatorar esta função para que ela retorne um valor"
   ]
  },
  {
   "cell_type": "code",
   "execution_count": 10,
   "metadata": {},
   "outputs": [],
   "source": [
    "def quadrado_de_7():\n",
    "    return 7*7"
   ]
  },
  {
   "cell_type": "code",
   "execution_count": 11,
   "metadata": {},
   "outputs": [
    {
     "name": "stdout",
     "output_type": "stream",
     "text": [
      "Retorno 49\n"
     ]
    }
   ],
   "source": [
    "# Criamos uma variável para receber o retorno da função\n",
    "ret = quadrado_de_7()\n",
    "\n",
    "print(f'Retorno {ret}')"
   ]
  },
  {
   "cell_type": "code",
   "execution_count": 13,
   "metadata": {},
   "outputs": [
    {
     "name": "stdout",
     "output_type": "stream",
     "text": [
      "Retorno : 50\n"
     ]
    }
   ],
   "source": [
    "# Sem criar uma variável \n",
    "print(f'Retorno : {quadrado_de_7() + 1}')"
   ]
  },
  {
   "cell_type": "markdown",
   "metadata": {},
   "source": [
    "Refatorando a primeira função"
   ]
  },
  {
   "cell_type": "code",
   "execution_count": 16,
   "metadata": {},
   "outputs": [
    {
     "name": "stdout",
     "output_type": "stream",
     "text": [
      "Oi!Pedro\n"
     ]
    }
   ],
   "source": [
    "def diz_oi():\n",
    "    return 'Oi!'\n",
    "\n",
    "algem = 'Pedro'\n",
    "print(diz_oi() + algem)"
   ]
  },
  {
   "cell_type": "code",
   "execution_count": 17,
   "metadata": {},
   "outputs": [
    {
     "name": "stdout",
     "output_type": "stream",
     "text": [
      "Oi!Hyago\n"
     ]
    }
   ],
   "source": [
    "nome = input('Qual é o seu nome: ')\n",
    "print(diz_oi()+nome)"
   ]
  },
  {
   "cell_type": "markdown",
   "metadata": {},
   "source": [
    "OBS: Sobre a palavra reservada return\n",
    "\n",
    "1 - Ela finaliza a função, ou seja, ela sai da execução da função\n",
    "\n",
    "2 - Podemos ter, em uma função, diferentes return's\n",
    "\n",
    "3 - Podemos, em uma função, retornar qualquer tipos de dados até multiplos valores"
   ]
  },
  {
   "cell_type": "code",
   "execution_count": 20,
   "metadata": {},
   "outputs": [
    {
     "name": "stdout",
     "output_type": "stream",
     "text": [
      "Estou sendo executado antes do retorno\n",
      "Oi!\n"
     ]
    }
   ],
   "source": [
    "# Exemplo 1\n",
    "def diz_oi():\n",
    "    print('Estou sendo executado antes do retorno')\n",
    "    return 'Oi!'\n",
    "    print('Estou sendo executado após o return')# a linha depois de return não é executada\n",
    "\n",
    "print(diz_oi()) "
   ]
  },
  {
   "cell_type": "code",
   "execution_count": 24,
   "metadata": {},
   "outputs": [
    {
     "name": "stdout",
     "output_type": "stream",
     "text": [
      "b\n"
     ]
    }
   ],
   "source": [
    "# Exemplo 2\n",
    "def nova_funcao():\n",
    "    variavel = False\n",
    "    if variavel:\n",
    "        return 4\n",
    "    elif variavel is None:\n",
    "        return 3.2\n",
    "    return 'b' \n",
    "\n",
    "print(nova_funcao())"
   ]
  },
  {
   "cell_type": "code",
   "execution_count": 27,
   "metadata": {},
   "outputs": [
    {
     "name": "stdout",
     "output_type": "stream",
     "text": [
      "2 3 4 5\n",
      "(2, 3, 4, 5)\n"
     ]
    }
   ],
   "source": [
    "# Exemplo 3\n",
    "\n",
    "def outra_funcao():\n",
    "    return 2, 3, 4, 5\n",
    "\n",
    "num1, num2, num3, num4 = outra_funcao() # desenpacotamos a tupla\n",
    "\n",
    "print(num1, num2, num3, num4)\n",
    "print(outra_funcao())"
   ]
  },
  {
   "cell_type": "markdown",
   "metadata": {},
   "source": [
    "Vamos criar uma função para jogar uma moeda"
   ]
  },
  {
   "cell_type": "code",
   "execution_count": 38,
   "metadata": {},
   "outputs": [
    {
     "name": "stdout",
     "output_type": "stream",
     "text": [
      "Coroa\n"
     ]
    }
   ],
   "source": [
    "from random import random\n",
    "\n",
    "def joga_moeda():\n",
    "    # Gera um número pseudo-randômico entre 0 e 1.\n",
    "    valor = random()\n",
    "    if valor > 0.5:\n",
    "        return 'Cara'\n",
    "    return 'Coroa'\n",
    "\n",
    "print(joga_moeda())"
   ]
  },
  {
   "cell_type": "markdown",
   "metadata": {},
   "source": [
    "## Erros comuns \n",
    "\n",
    "Erros mais comuns na utilização do retorno, que na verdade nem é erro,mas sim codificação desnecessária"
   ]
  },
  {
   "cell_type": "code",
   "execution_count": 40,
   "metadata": {},
   "outputs": [
    {
     "name": "stdout",
     "output_type": "stream",
     "text": [
      "True\n"
     ]
    }
   ],
   "source": [
    "def eh_impar():\n",
    "    numero = 5\n",
    "    if numero % 2 !=0:\n",
    "        return True\n",
    "    return False # \n",
    "\n",
    "print(eh_impar())"
   ]
  },
  {
   "cell_type": "markdown",
   "metadata": {},
   "source": [
    "Exercício: Crie uma programa que jogue pedra, papel e tesoura."
   ]
  },
  {
   "cell_type": "code",
   "execution_count": 4,
   "metadata": {},
   "outputs": [
    {
     "name": "stdout",
     "output_type": "stream",
     "text": [
      "Help on method randint in module random:\n",
      "\n",
      "randint(a, b) method of random.Random instance\n",
      "    Return random integer in range [a, b], including both end points.\n",
      "\n",
      "None\n"
     ]
    }
   ],
   "source": [
    "from random import randint\n",
    "print(help(randint))"
   ]
  },
  {
   "cell_type": "code",
   "execution_count": 21,
   "metadata": {},
   "outputs": [
    {
     "data": {
      "text/plain": [
       "2"
      ]
     },
     "execution_count": 21,
     "metadata": {},
     "output_type": "execute_result"
    }
   ],
   "source": [
    "randint(1,3)"
   ]
  },
  {
   "cell_type": "code",
   "execution_count": 47,
   "metadata": {},
   "outputs": [
    {
     "name": "stdout",
     "output_type": "stream",
     "text": [
      "--------------------------------------------------\n",
      "Escolha entre:\n",
      " pedra[1]\n",
      " papel[2]\n",
      "tesoura[3]\n",
      "--------------------------------------------------\n",
      "Ganhou! Pedra com Tesoura\n",
      "--------------------------------------------------\n"
     ]
    }
   ],
   "source": [
    "from random import randint\n",
    "def linha():\n",
    "    print(50*'-')\n",
    "\n",
    "def escolha_pc():\n",
    "    return randint(1,3)\n",
    "\n",
    "linha() \n",
    "\n",
    "print('Escolha entre:')\n",
    "print(' pedra[1]')\n",
    "print(' papel[2]')\n",
    "print('tesoura[3]')\n",
    "escolha_jodador = int(input('Escolha:'))\n",
    "\n",
    "maquina = escolha_pc()\n",
    "\n",
    "def jogo():\n",
    "    if escolha_jodador== 1 and maquina ==1:\n",
    "        print('Empate! Pedra com Pedra')\n",
    "    elif escolha_jodador== 1 and maquina ==2:\n",
    "        print('Perdeu! Pedra com papel')\n",
    "    elif escolha_jodador== 1 and maquina ==3:\n",
    "        print('Ganhou! Pedra com Tesoura')\n",
    "    elif escolha_jodador== 2 and maquina ==1:\n",
    "        print('Ganhou! Papel com Pedra')\n",
    "    elif escolha_jodador== 2 and maquina ==2:\n",
    "        print('Empatou! Papel com Papel')\n",
    "    elif escolha_jodador== 2 and maquina ==3:\n",
    "        print('Perdeu! Papel com Tesoura')\n",
    "    elif escolha_jodador== 3 and maquina ==1:\n",
    "        print('Perdeu! Tesoura com Pedra')\n",
    "    elif escolha_jodador== 3 and maquina == 2:\n",
    "        print('Ganhou! Tesoura com Papel')\n",
    "    elif escolha_jodador== 3 and maquina == 3:\n",
    "        print('Empatou! Tesoura com Tesoura')\n",
    "\n",
    "linha()\n",
    "jogo()\n",
    "linha()"
   ]
  },
  {
   "cell_type": "markdown",
   "metadata": {},
   "source": [
    "# Aula-04 Funções com Parâmetro (de entrada)\n",
    "\n",
    "- Funções que recebem dados para serem processados dentro da mesma.\n",
    "\n",
    "Se a gente pensar em um programa qualquer, geralmente temos:\n",
    "\n",
    "entrada -> processamento -> saída\n",
    "\n",
    "Se a gente pensar em uma função, já sabemos que temos funções que:\n",
    "\n",
    "- Não possuem entrada;\n",
    "- Não possuem saída;\n",
    "- Possuem entrada mas não possuem saída;\n",
    "- Não possuem entrada mas possuem saída;\n",
    "- Possuem entrada e saída."
   ]
  },
  {
   "cell_type": "code",
   "execution_count": 5,
   "metadata": {},
   "outputs": [
    {
     "name": "stdout",
     "output_type": "stream",
     "text": [
      "49\n",
      "4\n",
      "<class 'float'>\n"
     ]
    }
   ],
   "source": [
    "# Refatorando uma função\n",
    "\n",
    "def quadrado(numero):\n",
    "    # return numero*numero\n",
    "    return numero**2\n",
    "\n",
    "\n",
    "print(quadrado(7))\n",
    "print(quadrado(2))\n",
    "print(type(quadrado(2.5)))"
   ]
  },
  {
   "cell_type": "markdown",
   "metadata": {},
   "source": [
    "OBS: quando esquecemos de colocar o parametro de entrada em uma função aparece o erro TypeError"
   ]
  },
  {
   "cell_type": "code",
   "execution_count": 6,
   "metadata": {},
   "outputs": [
    {
     "ename": "TypeError",
     "evalue": "quadrado() missing 1 required positional argument: 'numero'",
     "output_type": "error",
     "traceback": [
      "\u001b[1;31m---------------------------------------------------------------------------\u001b[0m",
      "\u001b[1;31mTypeError\u001b[0m                                 Traceback (most recent call last)",
      "Cell \u001b[1;32mIn[6], line 1\u001b[0m\n\u001b[1;32m----> 1\u001b[0m \u001b[38;5;28mprint\u001b[39m(\u001b[43mquadrado\u001b[49m\u001b[43m(\u001b[49m\u001b[43m)\u001b[49m)\n",
      "\u001b[1;31mTypeError\u001b[0m: quadrado() missing 1 required positional argument: 'numero'"
     ]
    }
   ],
   "source": [
    "print(quadrado())"
   ]
  },
  {
   "cell_type": "code",
   "execution_count": 8,
   "metadata": {},
   "outputs": [
    {
     "name": "stdout",
     "output_type": "stream",
     "text": [
      "Parabéns para você\n",
      "Nesta data querida\n",
      "Muitas felicidades\n",
      "Muitos anos de vida\n",
      "Viva o/a Hyago!\n"
     ]
    }
   ],
   "source": [
    "# Refatorando a função parabéns\n",
    "\n",
    "\n",
    "def cantar_parabens(aniversariante):\n",
    "    print('Parabéns para você')\n",
    "    print('Nesta data querida')\n",
    "    print('Muitas felicidades')\n",
    "    print('Muitos anos de vida')\n",
    "    print(f'Viva o/a {aniversariante}!')\n",
    "\n",
    "cantar_parabens('Hyago')"
   ]
  },
  {
   "cell_type": "markdown",
   "metadata": {},
   "source": [
    "Funções podem ter n parâmetros de entrada. Ou seja, podemos receber como entrado em uma função quantos parâmetros forem necessários. Eles são separados por vírgula"
   ]
  },
  {
   "cell_type": "code",
   "execution_count": 13,
   "metadata": {},
   "outputs": [
    {
     "name": "stdout",
     "output_type": "stream",
     "text": [
      "7\n",
      "30\n",
      "20\n",
      "16\n",
      "Bola Bola Bola Bola Bola \n"
     ]
    }
   ],
   "source": [
    "def soma(a, b):\n",
    "    return a + b\n",
    "\n",
    "def multiplica(num1, num2):\n",
    "    return num1*num2\n",
    "\n",
    "def outra(num1, b, msg):\n",
    "    return (num1 + b)* msg\n",
    "\n",
    "print(soma(2, 5))\n",
    "print(soma(10, 20))\n",
    "\n",
    "print(multiplica(4, 5))\n",
    "print(multiplica(2, 8))\n",
    "\n",
    "print(outra(3, 2, 'Bola '))"
   ]
  },
  {
   "cell_type": "markdown",
   "metadata": {},
   "source": [
    "OBS: Se a informamos um número errado de parâmetros ou argumentos, teremos TypeError"
   ]
  },
  {
   "cell_type": "code",
   "execution_count": 14,
   "metadata": {},
   "outputs": [
    {
     "ename": "TypeError",
     "evalue": "soma() missing 1 required positional argument: 'b'",
     "output_type": "error",
     "traceback": [
      "\u001b[1;31m---------------------------------------------------------------------------\u001b[0m",
      "\u001b[1;31mTypeError\u001b[0m                                 Traceback (most recent call last)",
      "Cell \u001b[1;32mIn[14], line 1\u001b[0m\n\u001b[1;32m----> 1\u001b[0m \u001b[38;5;28mprint\u001b[39m(\u001b[43msoma\u001b[49m\u001b[43m(\u001b[49m\u001b[38;5;241;43m5\u001b[39;49m\u001b[43m)\u001b[49m)\n",
      "\u001b[1;31mTypeError\u001b[0m: soma() missing 1 required positional argument: 'b'"
     ]
    }
   ],
   "source": [
    "print(soma(5))"
   ]
  },
  {
   "cell_type": "markdown",
   "metadata": {},
   "source": [
    "## Nomeando parâmetros"
   ]
  },
  {
   "cell_type": "code",
   "execution_count": 19,
   "metadata": {},
   "outputs": [
    {
     "name": "stdout",
     "output_type": "stream",
     "text": [
      "Seu nome completo é Amanda Mikaelly\n"
     ]
    }
   ],
   "source": [
    "def nome_completo(nome, sobrenome):\n",
    "    return f'Seu nome completo é {nome} {sobrenome}'\n",
    "\n",
    "print(nome_completo('Amanda', 'Mikaelly'))"
   ]
  },
  {
   "cell_type": "markdown",
   "metadata": {},
   "source": [
    "### A diferença entre Parâmetros e Argumentos\n",
    "\n",
    "Parâmetros: são variáveis declaradas na definição de uma função.\n",
    "\n",
    "Argumentos: são dados passados durante a execução de uma função"
   ]
  },
  {
   "cell_type": "code",
   "execution_count": 17,
   "metadata": {},
   "outputs": [
    {
     "name": "stdout",
     "output_type": "stream",
     "text": [
      "Seu nome completo é Jones Felicity\n"
     ]
    }
   ],
   "source": [
    "# A ordem dos parâmetros importam!\n",
    "\n",
    "nome = 'Felicity'\n",
    "sobrenome = 'Jones'\n",
    "\n",
    "print(nome_completo(sobrenome, nome))"
   ]
  },
  {
   "cell_type": "markdown",
   "metadata": {},
   "source": [
    "### Argumentos nomeados (Keyword Arguments)\n",
    "\n",
    "Caso utilizemos nomes dos parâmetros nos argumentos para informa-los, podemos utilizar qualquer ordem.\n"
   ]
  },
  {
   "cell_type": "code",
   "execution_count": 20,
   "metadata": {},
   "outputs": [
    {
     "name": "stdout",
     "output_type": "stream",
     "text": [
      "Seu nome completo é Angelina Jolie\n",
      "Seu nome completo é Angelina jolie\n"
     ]
    }
   ],
   "source": [
    "print(nome_completo(nome='Angelina', sobrenome='Jolie'))\n",
    "print(nome_completo(sobrenome='jolie', nome='Angelina'))"
   ]
  },
  {
   "cell_type": "markdown",
   "metadata": {},
   "source": [
    "### Erro comum na utilização do return\n",
    "\n"
   ]
  },
  {
   "cell_type": "code",
   "execution_count": 22,
   "metadata": {},
   "outputs": [
    {
     "name": "stdout",
     "output_type": "stream",
     "text": [
      "1\n"
     ]
    }
   ],
   "source": [
    "def som_impares(numeros):\n",
    "    total = 0\n",
    "    for num in numeros:\n",
    "        if num % 2 !=0:\n",
    "            total = total + num\n",
    "        return total # Está errado\n",
    "\n",
    "lista = [1, 2, 3, 4, 5, 6, 7]\n",
    "print(som_impares(lista))"
   ]
  },
  {
   "cell_type": "markdown",
   "metadata": {},
   "source": [
    "# Aula-05 Função com parâmetro Padrão\n",
    "\n",
    "- Funções onde a passagem de parâmetro seja opcional\n",
    "\n",
    "* Exemplo de função onde a passagem de parâmetro é opcional"
   ]
  },
  {
   "cell_type": "code",
   "execution_count": null,
   "metadata": {},
   "outputs": [
    {
     "name": "stdout",
     "output_type": "stream",
     "text": [
      "Geek University\n",
      "\n"
     ]
    }
   ],
   "source": [
    "print('Geek University')\n",
    "print() "
   ]
  },
  {
   "cell_type": "markdown",
   "metadata": {},
   "source": [
    "Exemplo de função onde a passagem a passagem de parâmetro é obrigatória"
   ]
  },
  {
   "cell_type": "code",
   "execution_count": 3,
   "metadata": {},
   "outputs": [
    {
     "name": "stdout",
     "output_type": "stream",
     "text": [
      "9\n"
     ]
    },
    {
     "ename": "TypeError",
     "evalue": "quadrado() missing 1 required positional argument: 'numero'",
     "output_type": "error",
     "traceback": [
      "\u001b[1;31m---------------------------------------------------------------------------\u001b[0m",
      "\u001b[1;31mTypeError\u001b[0m                                 Traceback (most recent call last)",
      "Cell \u001b[1;32mIn[3], line 5\u001b[0m\n\u001b[0;32m      2\u001b[0m     \u001b[38;5;28;01mreturn\u001b[39;00m numero \u001b[38;5;241m*\u001b[39m\u001b[38;5;241m*\u001b[39m \u001b[38;5;241m2\u001b[39m\n\u001b[0;32m      4\u001b[0m \u001b[38;5;28mprint\u001b[39m(quadrado(\u001b[38;5;241m3\u001b[39m))\n\u001b[1;32m----> 5\u001b[0m \u001b[38;5;28mprint\u001b[39m(\u001b[43mquadrado\u001b[49m\u001b[43m(\u001b[49m\u001b[43m)\u001b[49m)\n",
      "\u001b[1;31mTypeError\u001b[0m: quadrado() missing 1 required positional argument: 'numero'"
     ]
    }
   ],
   "source": [
    "def quadrado(numero):\n",
    "    return numero ** 2\n",
    "\n",
    "print(quadrado(3))\n",
    "print(quadrado())"
   ]
  },
  {
   "cell_type": "markdown",
   "metadata": {},
   "source": [
    "Se o usuário passar somente um parâmetro, este será atribuido ao parâmetro numero, e será calculdo o quadrado deste número"
   ]
  },
  {
   "cell_type": "code",
   "execution_count": 6,
   "metadata": {},
   "outputs": [
    {
     "name": "stdout",
     "output_type": "stream",
     "text": [
      "8\n",
      "9\n"
     ]
    }
   ],
   "source": [
    "def exponencial(numero, potencia=2):\n",
    "    return numero ** potencia\n",
    "\n",
    "print(exponencial(2,3))\n",
    "print(exponencial(3,2))"
   ]
  },
  {
   "cell_type": "markdown",
   "metadata": {},
   "source": [
    "Se o usuário passar 2 argumentos, o primeiro será atribuído ao parâmetro numero e o segundo ao parâmetro potencia. Então será calculada esta potência"
   ]
  },
  {
   "cell_type": "code",
   "execution_count": 9,
   "metadata": {},
   "outputs": [
    {
     "name": "stdout",
     "output_type": "stream",
     "text": [
      "9\n",
      "243\n",
      "16\n"
     ]
    }
   ],
   "source": [
    "print(exponencial(3)) # Por padrão eleve ao quadrado\n",
    "print(exponencial(3,5))\n",
    "print(exponencial(4))"
   ]
  },
  {
   "cell_type": "markdown",
   "metadata": {},
   "source": [
    "OBS: Em funções Python, os parâmetros com valores (padrão) DEVEM sempre está ao final da declaração"
   ]
  },
  {
   "cell_type": "code",
   "execution_count": 11,
   "metadata": {},
   "outputs": [
    {
     "ename": "SyntaxError",
     "evalue": "parameter without a default follows parameter with a default (4038855090.py, line 2)",
     "output_type": "error",
     "traceback": [
      "\u001b[1;36m  Cell \u001b[1;32mIn[11], line 2\u001b[1;36m\u001b[0m\n\u001b[1;33m    def teste(num=2, potencia):\u001b[0m\n\u001b[1;37m                     ^\u001b[0m\n\u001b[1;31mSyntaxError\u001b[0m\u001b[1;31m:\u001b[0m parameter without a default follows parameter with a default\n"
     ]
    }
   ],
   "source": [
    "# maneira errada. O parametro default deve ir no final\n",
    "def teste(num=2, potencia):\n",
    "    return num ** potencia"
   ]
  },
  {
   "cell_type": "code",
   "execution_count": 12,
   "metadata": {},
   "outputs": [
    {
     "name": "stdout",
     "output_type": "stream",
     "text": [
      "4\n"
     ]
    }
   ],
   "source": [
    "# maneira certa\n",
    "\n",
    "def teste(potencia, num=2):\n",
    "    return num ** potencia\n",
    "\n",
    "print(teste(2))"
   ]
  },
  {
   "cell_type": "code",
   "execution_count": null,
   "metadata": {},
   "outputs": [],
   "source": [
    "# outro exemplo\n",
    "\n",
    "def soma(num1, num2):\n",
    "    return num1 + num2"
   ]
  },
  {
   "cell_type": "code",
   "execution_count": 14,
   "metadata": {},
   "outputs": [
    {
     "name": "stdout",
     "output_type": "stream",
     "text": [
      "Eu pensi que você era o instrutor\n",
      "Bem-vindo instrutor Geek!\n",
      "Olá Ozzy\n"
     ]
    }
   ],
   "source": [
    "# Exemplo mais complexo\n",
    "\n",
    "def mostra_informacao(nome='Geek', instrutor =False):\n",
    "    if nome == 'Geek' and instrutor:\n",
    "        return 'Bem-vindo instrutor Geek!'\n",
    "    elif nome == 'Geek':\n",
    "        return 'Eu pensi que você era o instrutor'\n",
    "    return f'Olá {nome}'\n",
    "\n",
    "print(mostra_informacao())\n",
    "print(mostra_informacao(instrutor=True))\n",
    "print(mostra_informacao('Ozzy'))"
   ]
  },
  {
   "cell_type": "markdown",
   "metadata": {},
   "source": [
    "Por que utilizar parâmetros com valor default?\n",
    "\n",
    "- Nos permite ser mais flexíveis nas funções;\n",
    "- Evita erros com parâmetros incorretos;\n",
    "- Nos permite trabalhar com exemplos mais legíveis de códigos"
   ]
  },
  {
   "cell_type": "markdown",
   "metadata": {},
   "source": [
    "Quais tipos de dados podemos utliziar como valores default para parâmetros?\n",
    "\n",
    "- Qualquer tipo de dados:\n",
    "    - Números, strings, floats, booleanos, listas, dicionários, funções e etc"
   ]
  },
  {
   "cell_type": "code",
   "execution_count": 15,
   "metadata": {},
   "outputs": [],
   "source": [
    "def diz_oi():\n",
    "    print('oi')"
   ]
  },
  {
   "cell_type": "markdown",
   "metadata": {},
   "source": [
    "Exemplos:"
   ]
  },
  {
   "cell_type": "code",
   "execution_count": 17,
   "metadata": {},
   "outputs": [
    {
     "name": "stdout",
     "output_type": "stream",
     "text": [
      "5\n",
      "0\n"
     ]
    }
   ],
   "source": [
    "def soma(num1, num2):\n",
    "    return num1 + num2\n",
    "\n",
    "def mat(num1, num2, fun=soma):\n",
    "    return fun(num1, num2)\n",
    "\n",
    "def subtracao(num1, num2):\n",
    "    return num1 - num2\n",
    "\n",
    "print(mat(2, 3))\n",
    "print(mat(2, 2, subtracao))"
   ]
  },
  {
   "cell_type": "markdown",
   "metadata": {},
   "source": [
    "## Escopo - Evitar problemas e confusões...\n",
    "\n",
    "* Variáveis globais\n",
    "* Variáveis locais"
   ]
  },
  {
   "cell_type": "code",
   "execution_count": 18,
   "metadata": {},
   "outputs": [
    {
     "name": "stdout",
     "output_type": "stream",
     "text": [
      "Oi Geek\n"
     ]
    }
   ],
   "source": [
    "instrutor = 'Geek' # Variável global\n",
    "\n",
    "def diz_oi():\n",
    "    return f'Oi {instrutor}'\n",
    "\n",
    "print(diz_oi())"
   ]
  },
  {
   "cell_type": "code",
   "execution_count": 19,
   "metadata": {},
   "outputs": [
    {
     "name": "stdout",
     "output_type": "stream",
     "text": [
      "Oi Python\n"
     ]
    }
   ],
   "source": [
    "instrutor = 'Geek' # Variável global\n",
    "\n",
    "def diz_oi():\n",
    "    instrutor = 'Python' # Variável local\n",
    "    return f'Oi {instrutor}'\n",
    "\n",
    "print(diz_oi())"
   ]
  },
  {
   "cell_type": "markdown",
   "metadata": {},
   "source": [
    "OBS: Se tivermos uma varíavel local com o mesmo nome que uma variável global, a local terá preferência."
   ]
  },
  {
   "cell_type": "code",
   "execution_count": 22,
   "metadata": {},
   "outputs": [
    {
     "name": "stdout",
     "output_type": "stream",
     "text": [
      "Olá Geek\n"
     ]
    },
    {
     "ename": "NameError",
     "evalue": "name 'prinf' is not defined",
     "output_type": "error",
     "traceback": [
      "\u001b[1;31m---------------------------------------------------------------------------\u001b[0m",
      "\u001b[1;31mNameError\u001b[0m                                 Traceback (most recent call last)",
      "Cell \u001b[1;32mIn[22], line 6\u001b[0m\n\u001b[0;32m      3\u001b[0m     \u001b[38;5;28;01mreturn\u001b[39;00m \u001b[38;5;124mf\u001b[39m\u001b[38;5;124m'\u001b[39m\u001b[38;5;124mOlá \u001b[39m\u001b[38;5;132;01m{\u001b[39;00mprof\u001b[38;5;132;01m}\u001b[39;00m\u001b[38;5;124m'\u001b[39m\n\u001b[0;32m      5\u001b[0m \u001b[38;5;28mprint\u001b[39m(diz_oi())\n\u001b[1;32m----> 6\u001b[0m \u001b[43mprinf\u001b[49m(prof) \u001b[38;5;66;03m# a varíavel só existe fora da função\u001b[39;00m\n",
      "\u001b[1;31mNameError\u001b[0m: name 'prinf' is not defined"
     ]
    }
   ],
   "source": [
    "def diz_oi():\n",
    "    prof = 'Geek' # Variável local\n",
    "    return f'Olá {prof}'\n",
    "\n",
    "print(diz_oi())\n",
    "prinf(prof) # a varíavel só existe fora da função"
   ]
  },
  {
   "cell_type": "markdown",
   "metadata": {},
   "source": [
    "ATENÇÃO com variáveis globais (Se puder evitar, evite!)"
   ]
  },
  {
   "cell_type": "code",
   "execution_count": null,
   "metadata": {},
   "outputs": [
    {
     "ename": "UnboundLocalError",
     "evalue": "cannot access local variable 'total' where it is not associated with a value",
     "output_type": "error",
     "traceback": [
      "\u001b[1;31m---------------------------------------------------------------------------\u001b[0m",
      "\u001b[1;31mUnboundLocalError\u001b[0m                         Traceback (most recent call last)",
      "Cell \u001b[1;32mIn[25], line 7\u001b[0m\n\u001b[0;32m      4\u001b[0m     total \u001b[38;5;241m=\u001b[39m total \u001b[38;5;241m+\u001b[39m \u001b[38;5;241m1\u001b[39m \u001b[38;5;66;03m# a variável local não é definida\u001b[39;00m\n\u001b[0;32m      5\u001b[0m     \u001b[38;5;28;01mreturn\u001b[39;00m total\n\u001b[1;32m----> 7\u001b[0m \u001b[38;5;28mprint\u001b[39m(\u001b[43mincrementa\u001b[49m\u001b[43m(\u001b[49m\u001b[43m)\u001b[49m)\n",
      "Cell \u001b[1;32mIn[25], line 4\u001b[0m, in \u001b[0;36mincrementa\u001b[1;34m()\u001b[0m\n\u001b[0;32m      3\u001b[0m \u001b[38;5;28;01mdef\u001b[39;00m \u001b[38;5;21mincrementa\u001b[39m():\n\u001b[1;32m----> 4\u001b[0m     total \u001b[38;5;241m=\u001b[39m \u001b[43mtotal\u001b[49m \u001b[38;5;241m+\u001b[39m \u001b[38;5;241m1\u001b[39m \u001b[38;5;66;03m# a variável local não é definida\u001b[39;00m\n\u001b[0;32m      5\u001b[0m     \u001b[38;5;28;01mreturn\u001b[39;00m total\n",
      "\u001b[1;31mUnboundLocalError\u001b[0m: cannot access local variable 'total' where it is not associated with a value"
     ]
    }
   ],
   "source": [
    "total = 0\n",
    "\n",
    "def incrementa():\n",
    "    total = total + 1 # a variável local 'total' não é definida\n",
    "    return total\n",
    "\n",
    "print(incrementa())"
   ]
  },
  {
   "cell_type": "code",
   "execution_count": 29,
   "metadata": {},
   "outputs": [
    {
     "name": "stdout",
     "output_type": "stream",
     "text": [
      "2\n"
     ]
    }
   ],
   "source": [
    "# para resolver esse problemas devemos indicar que a variável é global\n",
    "\n",
    "total = 1\n",
    "\n",
    "def incrementa():\n",
    "    global total # Avisando que queremos utilizilar a variavel global \n",
    "\n",
    "    total = total + 1\n",
    "    return total\n",
    "\n",
    "print(incrementa())"
   ]
  },
  {
   "cell_type": "markdown",
   "metadata": {},
   "source": [
    "Podemos ter funções que são declaradas dentro de funções, e também tem uma forma especial de escopo de variável"
   ]
  },
  {
   "cell_type": "code",
   "execution_count": 32,
   "metadata": {},
   "outputs": [
    {
     "name": "stdout",
     "output_type": "stream",
     "text": [
      "1\n"
     ]
    },
    {
     "ename": "NameError",
     "evalue": "name 'dentro' is not defined",
     "output_type": "error",
     "traceback": [
      "\u001b[1;31m---------------------------------------------------------------------------\u001b[0m",
      "\u001b[1;31mNameError\u001b[0m                                 Traceback (most recent call last)",
      "Cell \u001b[1;32mIn[32], line 10\u001b[0m\n\u001b[0;32m      7\u001b[0m     \u001b[38;5;28;01mreturn\u001b[39;00m dentro()\n\u001b[0;32m      9\u001b[0m \u001b[38;5;28mprint\u001b[39m(fora())\n\u001b[1;32m---> 10\u001b[0m \u001b[38;5;28mprint\u001b[39m(\u001b[43mdentro\u001b[49m()) \u001b[38;5;66;03m# é local\u001b[39;00m\n",
      "\u001b[1;31mNameError\u001b[0m: name 'dentro' is not defined"
     ]
    }
   ],
   "source": [
    "def fora():\n",
    "    contador = 0\n",
    "    def dentro():\n",
    "        nonlocal contador\n",
    "        contador = contador + 1\n",
    "        return contador\n",
    "    return dentro()\n",
    "\n",
    "print(fora())\n",
    "print(dentro()) # é local"
   ]
  },
  {
   "cell_type": "markdown",
   "metadata": {},
   "source": [
    "# Aula 06 - Documentando funções com Docstrings"
   ]
  },
  {
   "cell_type": "code",
   "execution_count": 33,
   "metadata": {},
   "outputs": [
    {
     "name": "stdout",
     "output_type": "stream",
     "text": [
      "Help on built-in function print in module builtins:\n",
      "\n",
      "print(*args, sep=' ', end='\\n', file=None, flush=False)\n",
      "    Prints the values to a stream, or to sys.stdout by default.\n",
      "\n",
      "    sep\n",
      "      string inserted between values, default a space.\n",
      "    end\n",
      "      string appended after the last value, default a newline.\n",
      "    file\n",
      "      a file-like object (stream); defaults to the current sys.stdout.\n",
      "    flush\n",
      "      whether to forcibly flush the stream.\n",
      "\n",
      "None\n"
     ]
    }
   ],
   "source": [
    "print(help(print))"
   ]
  },
  {
   "cell_type": "code",
   "execution_count": 35,
   "metadata": {},
   "outputs": [
    {
     "name": "stdout",
     "output_type": "stream",
     "text": [
      "Oi!\n",
      "Help on function diz_oi in module __main__:\n",
      "\n",
      "diz_oi()\n",
      "    Uma função simples que retorna a string 'Oi'!\n",
      "\n",
      "None\n",
      " Uma função simples que retorna a string 'Oi'!\n"
     ]
    }
   ],
   "source": [
    "# Exemplos\n",
    "\n",
    "def diz_oi():\n",
    "    \"\"\" Uma função simples que retorna a string 'Oi'!\"\"\"\n",
    "    return 'Oi!'\n",
    "print(diz_oi())\n",
    "\n",
    "print(help(diz_oi))\n",
    "\n",
    "print(diz_oi.__doc__)"
   ]
  },
  {
   "cell_type": "code",
   "execution_count": 36,
   "metadata": {},
   "outputs": [
    {
     "data": {
      "text/plain": [
       "'Oi!'"
      ]
     },
     "execution_count": 36,
     "metadata": {},
     "output_type": "execute_result"
    }
   ],
   "source": [
    "from docstrings import diz_oi\n",
    "diz_oi()"
   ]
  },
  {
   "cell_type": "markdown",
   "metadata": {},
   "source": [
    "Podemos ainda fazer acesso á documentação com a função help()"
   ]
  },
  {
   "cell_type": "code",
   "execution_count": 37,
   "metadata": {},
   "outputs": [
    {
     "name": "stdout",
     "output_type": "stream",
     "text": [
      "Help on function diz_oi in module docstrings:\n",
      "\n",
      "diz_oi()\n",
      "    Uma função simples que retorna a string 'Oi!'\n",
      "\n"
     ]
    }
   ],
   "source": [
    "help(diz_oi)"
   ]
  },
  {
   "cell_type": "markdown",
   "metadata": {},
   "source": [
    "OBS: Podemos ter acesso à documentação de uma função em Python utilizando a propriedade especial \\__doc\\__"
   ]
  },
  {
   "cell_type": "code",
   "execution_count": 44,
   "metadata": {},
   "outputs": [
    {
     "name": "stdout",
     "output_type": "stream",
     "text": [
      "\n",
      "    Uma função simples que retorna a string 'Oi!'\n",
      "    \n"
     ]
    }
   ],
   "source": [
    "print(diz_oi.__doc__)"
   ]
  },
  {
   "cell_type": "code",
   "execution_count": 2,
   "metadata": {},
   "outputs": [
    {
     "name": "stdout",
     "output_type": "stream",
     "text": [
      "Help on function exponencial in module docstrings:\n",
      "\n",
      "exponencial(numero, potencia=2)\n",
      "    Função que retorn por padrão o quadrado de 'numero' ou 'numero' à 'potencia' informada.\n",
      "\n",
      "    : param numero: base\n",
      "    : param potencia: expoente\n",
      "    : return: base^expoente\n",
      "\n",
      "None\n"
     ]
    }
   ],
   "source": [
    "from docstrings import exponencial\n",
    "\n",
    "print(help(exponencial))"
   ]
  },
  {
   "cell_type": "markdown",
   "metadata": {},
   "source": [
    "# Aula 07 - Entendendo *args\n",
    "\n",
    "- O *args é um parâmetro, como outro qualquer. Isso significa você poderá charmar de qualquer coisa, desde que comece com asterisco.\n",
    "\n",
    "Exemplo:\n",
    "\n",
    "*xis\n",
    "\n",
    "Mas por convernção, utilizamos *args par defini-lo\n",
    "\n",
    "O parâmetro *args utilizado em uma função, coloca os valores estras informados como entrada em uma tupla. Lembrando que tuplas são imutáveis."
   ]
  },
  {
   "cell_type": "code",
   "execution_count": 3,
   "metadata": {},
   "outputs": [
    {
     "name": "stdout",
     "output_type": "stream",
     "text": [
      "19\n"
     ]
    }
   ],
   "source": [
    "# Exemplos\n",
    "\n",
    "def soma_todos_numeros(num1, num2, num3):\n",
    "    return num1 + num2 + num3\n",
    "\n",
    "print(soma_todos_numeros(4, 6, 9))"
   ]
  },
  {
   "cell_type": "code",
   "execution_count": 4,
   "metadata": {},
   "outputs": [
    {
     "ename": "TypeError",
     "evalue": "soma_todos_numeros() missing 1 required positional argument: 'num3'",
     "output_type": "error",
     "traceback": [
      "\u001b[1;31m---------------------------------------------------------------------------\u001b[0m",
      "\u001b[1;31mTypeError\u001b[0m                                 Traceback (most recent call last)",
      "Cell \u001b[1;32mIn[4], line 3\u001b[0m\n\u001b[0;32m      1\u001b[0m \u001b[38;5;66;03m# erros\u001b[39;00m\n\u001b[1;32m----> 3\u001b[0m \u001b[38;5;28mprint\u001b[39m(\u001b[43msoma_todos_numeros\u001b[49m\u001b[43m(\u001b[49m\u001b[38;5;241;43m4\u001b[39;49m\u001b[43m,\u001b[49m\u001b[38;5;241;43m5\u001b[39;49m\u001b[43m)\u001b[49m)\n",
      "\u001b[1;31mTypeError\u001b[0m: soma_todos_numeros() missing 1 required positional argument: 'num3'"
     ]
    }
   ],
   "source": [
    "# erros\n",
    "\n",
    "print(soma_todos_numeros(4,5))"
   ]
  },
  {
   "cell_type": "code",
   "execution_count": 5,
   "metadata": {},
   "outputs": [
    {
     "ename": "TypeError",
     "evalue": "soma_todos_numeros() takes 3 positional arguments but 4 were given",
     "output_type": "error",
     "traceback": [
      "\u001b[1;31m---------------------------------------------------------------------------\u001b[0m",
      "\u001b[1;31mTypeError\u001b[0m                                 Traceback (most recent call last)",
      "Cell \u001b[1;32mIn[5], line 2\u001b[0m\n\u001b[0;32m      1\u001b[0m \u001b[38;5;66;03m# erros \u001b[39;00m\n\u001b[1;32m----> 2\u001b[0m \u001b[38;5;28mprint\u001b[39m(\u001b[43msoma_todos_numeros\u001b[49m\u001b[43m(\u001b[49m\u001b[38;5;241;43m4\u001b[39;49m\u001b[43m,\u001b[49m\u001b[38;5;241;43m4\u001b[39;49m\u001b[43m,\u001b[49m\u001b[38;5;241;43m4\u001b[39;49m\u001b[43m,\u001b[49m\u001b[38;5;241;43m4\u001b[39;49m\u001b[43m)\u001b[49m)\n",
      "\u001b[1;31mTypeError\u001b[0m: soma_todos_numeros() takes 3 positional arguments but 4 were given"
     ]
    }
   ],
   "source": [
    "# erros \n",
    "print(soma_todos_numeros(4,4,4,4))"
   ]
  },
  {
   "cell_type": "markdown",
   "metadata": {},
   "source": [
    "Com o *args os valores são colocados dentro de uma tupla"
   ]
  },
  {
   "cell_type": "code",
   "execution_count": null,
   "metadata": {},
   "outputs": [],
   "source": [
    "# entendo *args\n",
    "\n",
    "def soma_todos_numeros(*args):\n",
    "    print(args)"
   ]
  },
  {
   "cell_type": "code",
   "execution_count": 7,
   "metadata": {},
   "outputs": [
    {
     "name": "stdout",
     "output_type": "stream",
     "text": [
      "()\n",
      "(1,)\n",
      "(1, 2)\n",
      "(1, 2, 3)\n"
     ]
    }
   ],
   "source": [
    "soma_todos_numeros()\n",
    "soma_todos_numeros(1)\n",
    "soma_todos_numeros(1,2)\n",
    "soma_todos_numeros(1,2,3)"
   ]
  },
  {
   "cell_type": "code",
   "execution_count": 8,
   "metadata": {},
   "outputs": [],
   "source": [
    "# refatorando a função\n",
    "\n",
    "def soma_todos_numeros(*args):\n",
    "    total = 0\n",
    "    for numero in args:\n",
    "        total = total + numero\n",
    "    return total"
   ]
  },
  {
   "cell_type": "code",
   "execution_count": 10,
   "metadata": {},
   "outputs": [
    {
     "name": "stdout",
     "output_type": "stream",
     "text": [
      "0\n",
      "1\n",
      "3\n",
      "6\n"
     ]
    }
   ],
   "source": [
    "print(soma_todos_numeros())\n",
    "print(soma_todos_numeros(1))\n",
    "print(soma_todos_numeros(1,2))\n",
    "print(soma_todos_numeros(1,2,3))"
   ]
  },
  {
   "cell_type": "code",
   "execution_count": 11,
   "metadata": {},
   "outputs": [],
   "source": [
    "# refatorando outra vez\n",
    "\n",
    "def soma_todos_numeros(*args):\n",
    "    return sum(args)"
   ]
  },
  {
   "cell_type": "code",
   "execution_count": 12,
   "metadata": {},
   "outputs": [
    {
     "name": "stdout",
     "output_type": "stream",
     "text": [
      "0\n",
      "1\n",
      "3\n",
      "6\n"
     ]
    }
   ],
   "source": [
    "print(soma_todos_numeros())\n",
    "print(soma_todos_numeros(1))\n",
    "print(soma_todos_numeros(1,2))\n",
    "print(soma_todos_numeros(1,2,3))"
   ]
  },
  {
   "cell_type": "code",
   "execution_count": 15,
   "metadata": {},
   "outputs": [],
   "source": [
    "# Exemplo\n",
    "\n",
    "def verifica_info(*args):\n",
    "    if 'Geek' in args and 'University' in args:\n",
    "        return 'Bem-vindo Geek'\n",
    "    return 'Eu não tenho certeza quem você é ...'"
   ]
  },
  {
   "cell_type": "code",
   "execution_count": 21,
   "metadata": {},
   "outputs": [
    {
     "name": "stdout",
     "output_type": "stream",
     "text": [
      "Eu não tenho certeza quem você é ...\n",
      "Eu não tenho certeza quem você é ...\n",
      "Bem-vindo Geek\n",
      "Bem-vindo Geek\n"
     ]
    }
   ],
   "source": [
    "print(verifica_info())\n",
    "print(verifica_info('Geek'))\n",
    "print(verifica_info('Geek','University'))\n",
    "print(verifica_info('University','Geek'))\n"
   ]
  },
  {
   "cell_type": "markdown",
   "metadata": {},
   "source": [
    "## Desempacotador\n",
    "\n",
    "O asterisco serve par que informemos ao Python que estamos passando com argumento uma coleção de dados. Desta forma ele desempacotará estes dados"
   ]
  },
  {
   "cell_type": "code",
   "execution_count": null,
   "metadata": {},
   "outputs": [],
   "source": [
    "numeros = [1, 2, 3, 4, 5, 6, 7]\n",
    "\n",
    "# Desempacotador\n",
    "\n",
    "print(soma_todos_numeros(*numeros))"
   ]
  },
  {
   "cell_type": "markdown",
   "metadata": {},
   "source": [
    "# Aula 08- Entendendo **kwargs\n",
    "\n",
    "Poderíamos chamar este parâmetro de **xis, mas por convenção chamamos de **kwargs\n",
    "\n",
    "Este é só mais um parâmetro, mas diferente do *args que colocava valores extras em uma tupla, o **kwargs exige que utilizemos parâmetros nomeados, e transforma esses parâmetros extras em um dicionário."
   ]
  },
  {
   "cell_type": "code",
   "execution_count": null,
   "metadata": {},
   "outputs": [
    {
     "name": "stdout",
     "output_type": "stream",
     "text": [
      "{'marcos': 'verde', 'julia': 'amarela', 'fernada': 'azul', 'vanessa': 'branco'}\n"
     ]
    }
   ],
   "source": [
    "# Exemplo\n",
    "\n",
    "def cores_favoritas(**kwargs):\n",
    "    print(kwargs)\n",
    "\n",
    "cores_favoritas(marcos='verde', julia='amarela', fernada='azul', vanessa='branco')\n",
    "\n"
   ]
  },
  {
   "cell_type": "code",
   "execution_count": 23,
   "metadata": {},
   "outputs": [
    {
     "name": "stdout",
     "output_type": "stream",
     "text": [
      "A cor favorita de marcos é verde\n",
      "A cor favorita de julia é amarela\n",
      "A cor favorita de fernada é azul\n",
      "A cor favorita de vanessa é branco\n"
     ]
    }
   ],
   "source": [
    "# Refatorando a função\n",
    "\n",
    "def cores_favoritas(**kwargs):\n",
    "    for pessoa, cor in kwargs.items():\n",
    "        print(f'A cor favorita de {pessoa} é {cor}')\n",
    "\n",
    "cores_favoritas(marcos='verde', julia='amarela', fernada='azul', vanessa='branco')\n"
   ]
  },
  {
   "cell_type": "markdown",
   "metadata": {},
   "source": [
    "OBS: Os parâmetros *args e **kwargs não são obrigatórios"
   ]
  },
  {
   "cell_type": "code",
   "execution_count": 24,
   "metadata": {},
   "outputs": [
    {
     "name": "stdout",
     "output_type": "stream",
     "text": [
      "A cor favorita de geek é navy\n"
     ]
    }
   ],
   "source": [
    "cores_favoritas()\n",
    "cores_favoritas(geek='navy')"
   ]
  },
  {
   "cell_type": "code",
   "execution_count": 27,
   "metadata": {},
   "outputs": [
    {
     "name": "stdout",
     "output_type": "stream",
     "text": [
      "Não tenho certeza quem você é ...\n",
      "Você recebeu um cumprimento Pythônico Geek\n",
      "Oi Geek!\n",
      "especial Geek!\n"
     ]
    }
   ],
   "source": [
    "# Exemplo mais complexo\n",
    "\n",
    "def cumprimento_especial(**kwargs):\n",
    "    if 'geek' in kwargs and kwargs['geek'] == 'Python':\n",
    "        return 'Você recebeu um cumprimento Pythônico Geek'\n",
    "    elif 'geek' in kwargs:\n",
    "        return f'{kwargs['geek']} Geek!'\n",
    "    return 'Não tenho certeza quem você é ...'\n",
    "\n",
    "print(cumprimento_especial())\n",
    "print(cumprimento_especial(geek='Python'))\n",
    "print(cumprimento_especial(geek='Oi'))\n",
    "print(cumprimento_especial(geek='especial'))\n"
   ]
  },
  {
   "cell_type": "markdown",
   "metadata": {},
   "source": [
    "## Ordem das várias em uma função\n",
    "\n",
    "Nas nossas funções, podemos ter:\n",
    "\n",
    "- Parâmetros obrigatórios;\n",
    "- *args;\n",
    "- Parâmetros default (não obrigatórios);\n",
    "- **kwargs"
   ]
  },
  {
   "cell_type": "code",
   "execution_count": 31,
   "metadata": {},
   "outputs": [
    {
     "name": "stdout",
     "output_type": "stream",
     "text": [
      "nome tem 8 anos\n",
      "()\n",
      "Casado\n",
      "{}\n",
      "nome tem 18 anos\n",
      "(4, 5, 7)\n",
      "Solteiro\n",
      "{}\n",
      "nome tem 34 anos\n",
      "()\n",
      "Casado\n",
      "{'eu': 'não', 'voce': 'vai'}\n",
      "nome tem 19 anos\n",
      "(9, 4, 3)\n",
      "Casado\n",
      "{'java': False, 'python': True}\n"
     ]
    }
   ],
   "source": [
    "def minha_funcao(idade, nome, *args, solteiro=False, **kwargs):\n",
    "    print(f'nome tem {idade} anos')\n",
    "    print(args)\n",
    "    if solteiro:\n",
    "        print('Solteiro')\n",
    "    else:\n",
    "        print('Casado')\n",
    "    print(kwargs)\n",
    "\n",
    "\n",
    "minha_funcao(8, 'Julia')\n",
    "minha_funcao(18, 'Felicity', 4, 5, 7, solteiro=True)\n",
    "minha_funcao(34, 'Felipe', eu='não', voce='vai')\n",
    "minha_funcao(19, 'Carla', 9, 4, 3, java=False, python=True)"
   ]
  },
  {
   "cell_type": "markdown",
   "metadata": {},
   "source": [
    "Obs: é importante manter a ordem dos parâmetros na declaração"
   ]
  },
  {
   "cell_type": "code",
   "execution_count": null,
   "metadata": {},
   "outputs": [
    {
     "name": "stdout",
     "output_type": "stream",
     "text": [
      "[1, 2, (3,), 'Geek', {'sobrenome': 'University', 'cargo': 'Instrutor'}]\n"
     ]
    }
   ],
   "source": [
    "# função com a ordem correta de parâmetros\n",
    "def mostra_indo(a, b, *args, instrutor='Geek', **kwargs):\n",
    "    return [a, b, args, instrutor, kwargs]\n",
    "\n",
    "print(mostra_indo(1,2,3, sobrenome='University', cargo = 'Instrutor'))"
   ]
  },
  {
   "cell_type": "code",
   "execution_count": 33,
   "metadata": {},
   "outputs": [
    {
     "name": "stdout",
     "output_type": "stream",
     "text": [
      "[1, 2, (), 3, {'sobrenome': 'University', 'cargo': 'Instrutor'}]\n"
     ]
    }
   ],
   "source": [
    "# função com a ordem incorreta de parâmetros\n",
    "\n",
    "def mostra_indo(a, b, instrutor='Geek', *args, **kwargs):\n",
    "    return [a, b, args, instrutor, kwargs]\n",
    "\n",
    "print(mostra_indo(1,2,3, sobrenome='University', cargo = 'Instrutor'))\n"
   ]
  },
  {
   "cell_type": "markdown",
   "metadata": {},
   "source": [
    "## Desempacotar com **kwargs"
   ]
  },
  {
   "cell_type": "code",
   "execution_count": 37,
   "metadata": {},
   "outputs": [
    {
     "name": "stdout",
     "output_type": "stream",
     "text": [
      "Felicity Jones\n"
     ]
    }
   ],
   "source": [
    "def mostra_nomes(**kwargs):\n",
    "    return f\"{kwargs['nomes']} {kwargs['sobrenome']}\"\n",
    "\n",
    "nomes = {'nomes': 'Felicity', 'sobrenome': 'Jones'}\n",
    "\n",
    "print(mostra_nomes(**nomes))"
   ]
  },
  {
   "cell_type": "code",
   "execution_count": 38,
   "metadata": {},
   "outputs": [
    {
     "name": "stdout",
     "output_type": "stream",
     "text": [
      "6\n"
     ]
    }
   ],
   "source": [
    "def soma_multiplos_numeros(a, b, c):\n",
    "    print(a + b + c)\n",
    "\n",
    "soma_multiplos_numeros(1, 2, 3)"
   ]
  },
  {
   "cell_type": "code",
   "execution_count": 40,
   "metadata": {},
   "outputs": [
    {
     "name": "stdout",
     "output_type": "stream",
     "text": [
      "6\n",
      "6\n",
      "6\n"
     ]
    }
   ],
   "source": [
    "lista = [1, 2, 3]\n",
    "tupla = (1, 2, 3)\n",
    "conjunto = {1, 2, 3}\n",
    "\n",
    "soma_multiplos_numeros(*lista)\n",
    "soma_multiplos_numeros(*tupla)\n",
    "soma_multiplos_numeros(*conjunto)"
   ]
  },
  {
   "cell_type": "code",
   "execution_count": 41,
   "metadata": {},
   "outputs": [
    {
     "name": "stdout",
     "output_type": "stream",
     "text": [
      "6\n"
     ]
    }
   ],
   "source": [
    "dicionario = dict(a=1, b=2, c=3)\n",
    "soma_multiplos_numeros(**dicionario)"
   ]
  },
  {
   "cell_type": "markdown",
   "metadata": {},
   "source": [
    "OBS: Os nomes da chave em um dicionário devem ser os mesmos da função"
   ]
  },
  {
   "cell_type": "code",
   "execution_count": 42,
   "metadata": {},
   "outputs": [
    {
     "ename": "TypeError",
     "evalue": "soma_multiplos_numeros() got an unexpected keyword argument 'e'",
     "output_type": "error",
     "traceback": [
      "\u001b[1;31m---------------------------------------------------------------------------\u001b[0m",
      "\u001b[1;31mTypeError\u001b[0m                                 Traceback (most recent call last)",
      "Cell \u001b[1;32mIn[42], line 2\u001b[0m\n\u001b[0;32m      1\u001b[0m dicionario \u001b[38;5;241m=\u001b[39m \u001b[38;5;28mdict\u001b[39m(e\u001b[38;5;241m=\u001b[39m\u001b[38;5;241m1\u001b[39m, f\u001b[38;5;241m=\u001b[39m\u001b[38;5;241m2\u001b[39m, g\u001b[38;5;241m=\u001b[39m\u001b[38;5;241m3\u001b[39m)\n\u001b[1;32m----> 2\u001b[0m \u001b[43msoma_multiplos_numeros\u001b[49m\u001b[43m(\u001b[49m\u001b[38;5;241;43m*\u001b[39;49m\u001b[38;5;241;43m*\u001b[39;49m\u001b[43mdicionario\u001b[49m\u001b[43m)\u001b[49m\n",
      "\u001b[1;31mTypeError\u001b[0m: soma_multiplos_numeros() got an unexpected keyword argument 'e'"
     ]
    }
   ],
   "source": [
    "dicionario = dict(e=1, f=2, g=3)\n",
    "soma_multiplos_numeros(**dicionario)"
   ]
  }
 ],
 "metadata": {
  "kernelspec": {
   "display_name": "Python 3",
   "language": "python",
   "name": "python3"
  },
  "language_info": {
   "codemirror_mode": {
    "name": "ipython",
    "version": 3
   },
   "file_extension": ".py",
   "mimetype": "text/x-python",
   "name": "python",
   "nbconvert_exporter": "python",
   "pygments_lexer": "ipython3",
   "version": "3.12.2"
  }
 },
 "nbformat": 4,
 "nbformat_minor": 2
}
