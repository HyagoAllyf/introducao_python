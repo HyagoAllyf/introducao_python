{
 "cells": [
  {
   "cell_type": "markdown",
   "metadata": {},
   "source": [
    "# Funções em Python\n",
    "\n",
    "## Aula-01: Definindo funções\n",
    "\n",
    "- Funções são pequenas partes do código que realizam tarefas específicas.\n",
    "\n",
    "Pode ou não receber entradas de dados e retornar uma saída de dados. Muito utesi para executar procedimentos similares por repetidas vezes.\n",
    "\n",
    "OBS: Se você escrever uma função que realiza várias tarefas dentro dela, é bom fazer uma verificação para que a função seja simplificada.\n",
    "\n",
    "Já utilizamos várias funções desde que iniciamos o curso:\n",
    "\n",
    "- print()\n",
    "- len()\n",
    "- max()\n",
    "- min()\n",
    "- count()\n",
    "- e muitas outras.\n",
    "\n"
   ]
  },
  {
   "cell_type": "code",
   "execution_count": 3,
   "metadata": {},
   "outputs": [
    {
     "name": "stdout",
     "output_type": "stream",
     "text": [
      "['verde', 'amarelo', 'azul', 'branco']\n",
      "Programação em Python: Essencial\n",
      "['verde', 'amarelo', 'azul', 'branco', 'roxo']\n"
     ]
    }
   ],
   "source": [
    "# Exemplo de utilização de funções:\n",
    "\n",
    "cores = ['verde', 'amarelo', 'azul', 'branco']\n",
    "\n",
    "# Utilizando a função integrada (Built-in) do Python print()\n",
    "\n",
    "print(cores)\n",
    "\n",
    "curso = 'Programação em Python: Essencial'\n",
    "\n",
    "print(curso)\n",
    "\n",
    "cores.append('roxo')\n",
    "print(cores)"
   ]
  },
  {
   "cell_type": "code",
   "execution_count": 4,
   "metadata": {},
   "outputs": [
    {
     "name": "stdout",
     "output_type": "stream",
     "text": [
      "Help on built-in function print in module builtins:\n",
      "\n",
      "print(*args, sep=' ', end='\\n', file=None, flush=False)\n",
      "    Prints the values to a stream, or to sys.stdout by default.\n",
      "\n",
      "    sep\n",
      "      string inserted between values, default a space.\n",
      "    end\n",
      "      string appended after the last value, default a newline.\n",
      "    file\n",
      "      a file-like object (stream); defaults to the current sys.stdout.\n",
      "    flush\n",
      "      whether to forcibly flush the stream.\n",
      "\n",
      "None\n"
     ]
    }
   ],
   "source": [
    "# para ver a documentação\n",
    "print(help(print))"
   ]
  },
  {
   "cell_type": "markdown",
   "metadata": {},
   "source": [
    "O princípio por trás das Funções é o DRY:\n",
    "\n",
    "- DRY - Don't Repeat Yourself - Não repita você mesmo/ Não repita o código"
   ]
  },
  {
   "cell_type": "markdown",
   "metadata": {},
   "source": [
    "Em Python, a forma geral de definir uma função é:\n",
    "\n",
    "def nome_da_funcao(parametros_de_entrada):\n",
    "\n",
    "        bloco_da_funcao\n",
    "\n",
    "Onde: \n",
    "\n",
    "- nome_da_funcao -> SEMPRE, com letras minúsculas, e se for nome composto, separado com underline (Snake Case);\n",
    "\n",
    "- parametros_de_entrada -> Opcionais, onde tendo mais de um, cada separado por vírgula, podendo ser opcionais ou não;\n",
    "\n",
    "- bloco_da_funcao -> Também chama do de corpo da função ou implementação, é onde o processamento da função acontece. Neste bloco, pode ter ou não retorno da função.\n",
    "\n",
    "OBS: Veja que para definir uma função, utilizamos a palavra reservada 'def' informando ao Python que estamos definingo uma função. Também abrimos o bloco de código com o já conhecido dois-pontos ':' que é utilizado em Python para definir blocos."
   ]
  },
  {
   "cell_type": "code",
   "execution_count": 6,
   "metadata": {},
   "outputs": [],
   "source": [
    "# Definindo a primeiro função\n",
    "\n",
    "def diz_oi():\n",
    "    print('oi!')"
   ]
  },
  {
   "cell_type": "markdown",
   "metadata": {},
   "source": [
    "OBS:\n",
    "\n",
    "1 - Veja que, dentro das nossas funções podemos utilizar outras funções;\n",
    "\n",
    "2 - Veja que, nossa função só executa uma tarefa;\n",
    "\n",
    "3 - Veja que está função não recebe nenhum parâmetro de entrada;\n",
    "\n",
    "4 - Veja que esta função não retorna nada"
   ]
  },
  {
   "cell_type": "code",
   "execution_count": 7,
   "metadata": {},
   "outputs": [
    {
     "name": "stdout",
     "output_type": "stream",
     "text": [
      "oi!\n"
     ]
    }
   ],
   "source": [
    "# utilizando a função\n",
    "\n",
    "diz_oi()"
   ]
  },
  {
   "cell_type": "markdown",
   "metadata": {},
   "source": [
    "ATENÇÃO:\n",
    "\n",
    "Nunca esqueça de utilizar o parênteses ao executar uma função.\n",
    "\n",
    "Errado!\n",
    "\n",
    "diz_oi\n",
    "\n",
    "diz_oi ()\n",
    "\n",
    "Certo!\n",
    "\n",
    "diz_oi()"
   ]
  },
  {
   "cell_type": "code",
   "execution_count": 8,
   "metadata": {},
   "outputs": [],
   "source": [
    "# Exemplo 2\n",
    "\n",
    "def cantar_parabens():\n",
    "    print('Parabéns para você')\n",
    "    print('Nesta data querida')\n",
    "    print('Muitas felicidades')\n",
    "    print('Muitos anos de vida')\n",
    "    print('Viva o aniversariante!')"
   ]
  },
  {
   "cell_type": "code",
   "execution_count": 9,
   "metadata": {},
   "outputs": [
    {
     "name": "stdout",
     "output_type": "stream",
     "text": [
      "Parabéns para você\n",
      "Nesta data querida\n",
      "Muitas felicidades\n",
      "Muitos anos de vida\n",
      "Viva o aniversariante!\n"
     ]
    }
   ],
   "source": [
    "cantar_parabens()"
   ]
  },
  {
   "cell_type": "code",
   "execution_count": 12,
   "metadata": {},
   "outputs": [
    {
     "name": "stdout",
     "output_type": "stream",
     "text": [
      "Parabéns para você\n",
      "Nesta data querida\n",
      "Muitas felicidades\n",
      "Muitos anos de vida\n",
      "Viva o aniversariante!\n",
      "           \n",
      "Parabéns para você\n",
      "Nesta data querida\n",
      "Muitas felicidades\n",
      "Muitos anos de vida\n",
      "Viva o aniversariante!\n",
      "           \n",
      "Parabéns para você\n",
      "Nesta data querida\n",
      "Muitas felicidades\n",
      "Muitos anos de vida\n",
      "Viva o aniversariante!\n",
      "           \n",
      "Parabéns para você\n",
      "Nesta data querida\n",
      "Muitas felicidades\n",
      "Muitos anos de vida\n",
      "Viva o aniversariante!\n",
      "           \n",
      "Parabéns para você\n",
      "Nesta data querida\n",
      "Muitas felicidades\n",
      "Muitos anos de vida\n",
      "Viva o aniversariante!\n",
      "           \n"
     ]
    }
   ],
   "source": [
    "# Exemplo com loop for\n",
    "\n",
    "for n in range(5): # repetir 5 vezes (vai de 0 a 4)\n",
    "    cantar_parabens()\n",
    "    print('           ')"
   ]
  },
  {
   "cell_type": "markdown",
   "metadata": {},
   "source": [
    "Em Python, podemos inclusive criar variáveis do tipo de uma função e executar esta função através da variável"
   ]
  },
  {
   "cell_type": "code",
   "execution_count": 15,
   "metadata": {},
   "outputs": [
    {
     "name": "stdout",
     "output_type": "stream",
     "text": [
      "Parabéns para você\n",
      "Nesta data querida\n",
      "Muitas felicidades\n",
      "Muitos anos de vida\n",
      "Viva o aniversariante!\n"
     ]
    }
   ],
   "source": [
    "canta = cantar_parabens()\n",
    "canta"
   ]
  },
  {
   "cell_type": "code",
   "execution_count": 14,
   "metadata": {},
   "outputs": [
    {
     "name": "stdout",
     "output_type": "stream",
     "text": [
      "Parabéns para você\n",
      "Nesta data querida\n",
      "Muitas felicidades\n",
      "Muitos anos de vida\n",
      "Viva o aniversariante!\n"
     ]
    }
   ],
   "source": [
    "canta = cantar_parabens\n",
    "\n",
    "canta()"
   ]
  },
  {
   "cell_type": "markdown",
   "metadata": {},
   "source": [
    "## Funções Com Retorno\n",
    "\n",
    "OBS: Em Python, quando uma função não retorna nenhum valor o retorno é None\n",
    "\n",
    "OBS: Funções Python que retornam valores, devem retornar estes valores com a palavra reservada return\n",
    "\n",
    "OBS: Não precisamos necessariamente criar uma variável para receber o retorno de uma função. Podemos passar a excução da função para outra funções.\n",
    "\n"
   ]
  },
  {
   "cell_type": "code",
   "execution_count": 5,
   "metadata": {},
   "outputs": [
    {
     "name": "stdout",
     "output_type": "stream",
     "text": [
      "Retorno de pop: 3\n",
      "[1, 2]\n",
      "Retorno de print:None\n"
     ]
    }
   ],
   "source": [
    "numeros = [1, 2, 3]\n",
    "\n",
    "ret = numeros.pop() # remove o ultimo elemento de uma lista\n",
    "print(f'Retorno de pop: {ret}')\n",
    "\n",
    "ret_pr = print(numeros) \n",
    "print(f'Retorno de print: {ret_pr}') # print não tem retorno"
   ]
  },
  {
   "cell_type": "code",
   "execution_count": 9,
   "metadata": {},
   "outputs": [
    {
     "name": "stdout",
     "output_type": "stream",
     "text": [
      "49\n",
      "Retorno de None\n"
     ]
    }
   ],
   "source": [
    "def quadrado_de_7():\n",
    "    print(7*7)\n",
    "\n",
    "ret = quadrado_de_7()\n",
    "print(f'Retorno de {ret}')"
   ]
  },
  {
   "cell_type": "markdown",
   "metadata": {},
   "source": [
    "Vamos refatorar esta função para que ela retorne um valor"
   ]
  },
  {
   "cell_type": "code",
   "execution_count": 10,
   "metadata": {},
   "outputs": [],
   "source": [
    "def quadrado_de_7():\n",
    "    return 7*7"
   ]
  },
  {
   "cell_type": "code",
   "execution_count": 11,
   "metadata": {},
   "outputs": [
    {
     "name": "stdout",
     "output_type": "stream",
     "text": [
      "Retorno 49\n"
     ]
    }
   ],
   "source": [
    "# Criamos uma variável para receber o retorno da função\n",
    "ret = quadrado_de_7()\n",
    "\n",
    "print(f'Retorno {ret}')"
   ]
  },
  {
   "cell_type": "code",
   "execution_count": 13,
   "metadata": {},
   "outputs": [
    {
     "name": "stdout",
     "output_type": "stream",
     "text": [
      "Retorno : 50\n"
     ]
    }
   ],
   "source": [
    "# Sem criar uma variável \n",
    "print(f'Retorno : {quadrado_de_7() + 1}')"
   ]
  },
  {
   "cell_type": "markdown",
   "metadata": {},
   "source": [
    "Refatorando a primeira função"
   ]
  },
  {
   "cell_type": "code",
   "execution_count": 16,
   "metadata": {},
   "outputs": [
    {
     "name": "stdout",
     "output_type": "stream",
     "text": [
      "Oi!Pedro\n"
     ]
    }
   ],
   "source": [
    "def diz_oi():\n",
    "    return 'Oi!'\n",
    "\n",
    "algem = 'Pedro'\n",
    "print(diz_oi() + algem)"
   ]
  },
  {
   "cell_type": "code",
   "execution_count": 17,
   "metadata": {},
   "outputs": [
    {
     "name": "stdout",
     "output_type": "stream",
     "text": [
      "Oi!Hyago\n"
     ]
    }
   ],
   "source": [
    "nome = input('Qual é o seu nome: ')\n",
    "print(diz_oi()+nome)"
   ]
  },
  {
   "cell_type": "markdown",
   "metadata": {},
   "source": [
    "OBS: Sobre a palavra reservada return\n",
    "\n",
    "1 - Ela finaliza a função, ou seja, ela sai da execução da função\n",
    "\n",
    "2 - Podemos ter, em uma função, diferentes return's\n",
    "\n",
    "3 - Podemos, em uma função, retornar qualquer tipos de dados até multiplos valores"
   ]
  },
  {
   "cell_type": "code",
   "execution_count": 20,
   "metadata": {},
   "outputs": [
    {
     "name": "stdout",
     "output_type": "stream",
     "text": [
      "Estou sendo executado antes do retorno\n",
      "Oi!\n"
     ]
    }
   ],
   "source": [
    "# Exemplo 1\n",
    "def diz_oi():\n",
    "    print('Estou sendo executado antes do retorno')\n",
    "    return 'Oi!'\n",
    "    print('Estou sendo executado após o return')# a linha depois de return não é executada\n",
    "\n",
    "print(diz_oi()) "
   ]
  },
  {
   "cell_type": "code",
   "execution_count": 24,
   "metadata": {},
   "outputs": [
    {
     "name": "stdout",
     "output_type": "stream",
     "text": [
      "b\n"
     ]
    }
   ],
   "source": [
    "# Exemplo 2\n",
    "def nova_funcao():\n",
    "    variavel = False\n",
    "    if variavel:\n",
    "        return 4\n",
    "    elif variavel is None:\n",
    "        return 3.2\n",
    "    return 'b' \n",
    "\n",
    "print(nova_funcao())"
   ]
  },
  {
   "cell_type": "code",
   "execution_count": 27,
   "metadata": {},
   "outputs": [
    {
     "name": "stdout",
     "output_type": "stream",
     "text": [
      "2 3 4 5\n",
      "(2, 3, 4, 5)\n"
     ]
    }
   ],
   "source": [
    "# Exemplo 3\n",
    "\n",
    "def outra_funcao():\n",
    "    return 2, 3, 4, 5\n",
    "\n",
    "num1, num2, num3, num4 = outra_funcao() # desenpacotamos a tupla\n",
    "\n",
    "print(num1, num2, num3, num4)\n",
    "print(outra_funcao())"
   ]
  },
  {
   "cell_type": "markdown",
   "metadata": {},
   "source": [
    "Vamos criar uma função para jogar uma moeda"
   ]
  },
  {
   "cell_type": "code",
   "execution_count": 38,
   "metadata": {},
   "outputs": [
    {
     "name": "stdout",
     "output_type": "stream",
     "text": [
      "Coroa\n"
     ]
    }
   ],
   "source": [
    "from random import random\n",
    "\n",
    "def joga_moeda():\n",
    "    # Gera um número pseudo-randômico entre 0 e 1.\n",
    "    valor = random()\n",
    "    if valor > 0.5:\n",
    "        return 'Cara'\n",
    "    return 'Coroa'\n",
    "\n",
    "print(joga_moeda())"
   ]
  },
  {
   "cell_type": "markdown",
   "metadata": {},
   "source": [
    "## Erros comuns \n",
    "\n",
    "Erros mais comuns na utilização do retorno, que na verdade nem é erro,mas sim codificação desnecessária"
   ]
  },
  {
   "cell_type": "code",
   "execution_count": 40,
   "metadata": {},
   "outputs": [
    {
     "name": "stdout",
     "output_type": "stream",
     "text": [
      "True\n"
     ]
    }
   ],
   "source": [
    "def eh_impar():\n",
    "    numero = 5\n",
    "    if numero % 2 !=0:\n",
    "        return True\n",
    "    return False # \n",
    "\n",
    "print(eh_impar())"
   ]
  },
  {
   "cell_type": "markdown",
   "metadata": {},
   "source": [
    "Exercício: Crie uma programa que jogue pedra, papel e tesoura."
   ]
  },
  {
   "cell_type": "code",
   "execution_count": null,
   "metadata": {},
   "outputs": [],
   "source": []
  }
 ],
 "metadata": {
  "kernelspec": {
   "display_name": "Python 3",
   "language": "python",
   "name": "python3"
  },
  "language_info": {
   "codemirror_mode": {
    "name": "ipython",
    "version": 3
   },
   "file_extension": ".py",
   "mimetype": "text/x-python",
   "name": "python",
   "nbconvert_exporter": "python",
   "pygments_lexer": "ipython3",
   "version": "3.12.2"
  }
 },
 "nbformat": 4,
 "nbformat_minor": 2
}
