{
 "cells": [
  {
   "cell_type": "markdown",
   "metadata": {},
   "source": [
    "# Secção 13 - Módulos e Pacotes\n",
    "\n",
    "Em Python, módulos nada mais são do que outros arquivos Python.\n"
   ]
  },
  {
   "cell_type": "markdown",
   "metadata": {},
   "source": [
    "## Módulo-Random\n",
    "\n",
    "Como exemplos usaremos o módulo Random.\n",
    "\n",
    "Módulo Random -> Possui várias funções para geração de números pseudo-aleatório.\n",
    "\n",
    "OBS: Existem duas formas de se utilizar um módulo ou função teste\n",
    "\n"
   ]
  },
  {
   "cell_type": "markdown",
   "metadata": {},
   "source": [
    "## Forma-1 Importanto todo o módulo ***(Não recomendado)***\n",
    "\n",
    "Ao realizar o import de **Todo o módulo, todas as funções, atributos, classes e propriedades** que tiverem dentro do módulo ficarção disponíveis **(ficarão em memória)**.\n",
    "\n",
    "Caso saibamos quais funções devemos utilizar do módulo requisitado, então esta não seria a melhor forma de importação."
   ]
  },
  {
   "cell_type": "code",
   "execution_count": 2,
   "metadata": {},
   "outputs": [
    {
     "data": {
      "text/plain": [
       "['BPF',\n",
       " 'LOG4',\n",
       " 'NV_MAGICCONST',\n",
       " 'RECIP_BPF',\n",
       " 'Random',\n",
       " 'SG_MAGICCONST',\n",
       " 'SystemRandom',\n",
       " 'TWOPI',\n",
       " '_ONE',\n",
       " '_Sequence',\n",
       " '__all__',\n",
       " '__builtins__',\n",
       " '__cached__',\n",
       " '__doc__',\n",
       " '__file__',\n",
       " '__loader__',\n",
       " '__name__',\n",
       " '__package__',\n",
       " '__spec__',\n",
       " '_accumulate',\n",
       " '_acos',\n",
       " '_bisect',\n",
       " '_ceil',\n",
       " '_cos',\n",
       " '_e',\n",
       " '_exp',\n",
       " '_fabs',\n",
       " '_floor',\n",
       " '_index',\n",
       " '_inst',\n",
       " '_isfinite',\n",
       " '_lgamma',\n",
       " '_log',\n",
       " '_log2',\n",
       " '_os',\n",
       " '_pi',\n",
       " '_random',\n",
       " '_repeat',\n",
       " '_sha512',\n",
       " '_sin',\n",
       " '_sqrt',\n",
       " '_test',\n",
       " '_test_generator',\n",
       " '_urandom',\n",
       " '_warn',\n",
       " 'betavariate',\n",
       " 'binomialvariate',\n",
       " 'choice',\n",
       " 'choices',\n",
       " 'expovariate',\n",
       " 'gammavariate',\n",
       " 'gauss',\n",
       " 'getrandbits',\n",
       " 'getstate',\n",
       " 'lognormvariate',\n",
       " 'normalvariate',\n",
       " 'paretovariate',\n",
       " 'randbytes',\n",
       " 'randint',\n",
       " 'random',\n",
       " 'randrange',\n",
       " 'sample',\n",
       " 'seed',\n",
       " 'setstate',\n",
       " 'shuffle',\n",
       " 'triangular',\n",
       " 'uniform',\n",
       " 'vonmisesvariate',\n",
       " 'weibullvariate']"
      ]
     },
     "execution_count": 2,
     "metadata": {},
     "output_type": "execute_result"
    }
   ],
   "source": [
    "# Importando todo o módulo\n",
    "\n",
    "import random\n",
    "\n",
    "dir(random)"
   ]
  },
  {
   "cell_type": "code",
   "execution_count": 3,
   "metadata": {},
   "outputs": [
    {
     "name": "stdout",
     "output_type": "stream",
     "text": [
      "Help on built-in function random:\n",
      "\n",
      "random() method of random.Random instance\n",
      "    random() -> x in the interval [0, 1).\n",
      "\n"
     ]
    }
   ],
   "source": [
    "help(random.random)"
   ]
  },
  {
   "cell_type": "code",
   "execution_count": 4,
   "metadata": {},
   "outputs": [
    {
     "name": "stdout",
     "output_type": "stream",
     "text": [
      "0.7403049962142286\n"
     ]
    }
   ],
   "source": [
    "print(random.random())"
   ]
  },
  {
   "cell_type": "markdown",
   "metadata": {},
   "source": [
    "Veja que para utilizar a função random() do pacote random, nós colocamos o nome do pacote e o nome da função, separados por ponto.\n",
    "\n",
    "OBS: não confunda a função random() com o pacote random. Pode parecer confuso, mas a função random() é apenas uma função dentro do módulo random.\n",
    "\n",
    "Dica-> Ao apertar crtl e clicar na função aparece todo o código fonte do módulo"
   ]
  },
  {
   "cell_type": "markdown",
   "metadata": {},
   "source": [
    "## Forma 2 - Importando uma função específica do módulo **(Forma recomendada)**"
   ]
  },
  {
   "cell_type": "code",
   "execution_count": 6,
   "metadata": {},
   "outputs": [],
   "source": [
    "from random import random\n"
   ]
  },
  {
   "cell_type": "markdown",
   "metadata": {},
   "source": [
    "No import acima, estamos falando: do módulo random, importe a função random"
   ]
  },
  {
   "cell_type": "code",
   "execution_count": 7,
   "metadata": {},
   "outputs": [
    {
     "name": "stdout",
     "output_type": "stream",
     "text": [
      "0.361083178570627\n",
      "0.5831154086647732\n",
      "0.8762065957315316\n",
      "0.28837573647010917\n",
      "0.14805582045624766\n",
      "0.8518875792122172\n",
      "0.6811804155777431\n",
      "0.28573113013362084\n",
      "0.5815356050579639\n",
      "0.40158026659637447\n"
     ]
    }
   ],
   "source": [
    "for i in range(10):\n",
    "    print(random())"
   ]
  },
  {
   "cell_type": "markdown",
   "metadata": {},
   "source": [
    "## Função uniform()\n",
    "\n",
    "uniform() -> Gerar um número pseudo-aleatório entre os valores estabelecido"
   ]
  },
  {
   "cell_type": "code",
   "execution_count": 10,
   "metadata": {},
   "outputs": [
    {
     "name": "stdout",
     "output_type": "stream",
     "text": [
      "Help on method uniform in module random:\n",
      "\n",
      "uniform(a, b) method of random.Random instance\n",
      "    Get a random number in the range [a, b) or [a, b] depending on rounding.\n",
      "\n",
      "    The mean (expected value) and variance of the random variable are:\n",
      "\n",
      "        E[X] = (a + b) / 2\n",
      "        Var[X] = (b - a) ** 2 / 12\n",
      "\n",
      "None\n",
      "4.258252027636232\n",
      "4.224184087771619\n",
      "3.625861555283963\n",
      "6.468903440709449\n",
      "3.9194269763723755\n",
      "4.471536664202536\n",
      "6.1094128564365775\n",
      "3.2476476305658637\n",
      "3.336016293417738\n",
      "6.517337053966591\n"
     ]
    }
   ],
   "source": [
    "from random import uniform\n",
    "\n",
    "print(help(uniform))\n",
    "\n",
    "for i in range(10):\n",
    "    print(uniform(3, 7)) # 7 não é incluido"
   ]
  },
  {
   "cell_type": "markdown",
   "metadata": {},
   "source": [
    "## Função-randint()\n",
    "\n",
    "Gera valores pseudo-aleatórios entre valores estabelecidos\n",
    "\n"
   ]
  },
  {
   "cell_type": "code",
   "execution_count": 11,
   "metadata": {},
   "outputs": [
    {
     "name": "stdout",
     "output_type": "stream",
     "text": [
      "26, 39, 11, 10, 49, 45, "
     ]
    }
   ],
   "source": [
    "from random import randint\n",
    "\n",
    "for i in range(6):\n",
    "    print(randint(1,61), end=', ')"
   ]
  },
  {
   "cell_type": "markdown",
   "metadata": {},
   "source": [
    "### Função - Choice()\n",
    "\n",
    "Mostra um valor aleatório entre um iterável"
   ]
  },
  {
   "cell_type": "code",
   "execution_count": 16,
   "metadata": {},
   "outputs": [
    {
     "name": "stdout",
     "output_type": "stream",
     "text": [
      "papel\n"
     ]
    }
   ],
   "source": [
    "from random import choice\n",
    "\n",
    "jogadas = ['pedra', 'papel', 'tesoura']\n",
    "\n",
    "print(choice(jogadas))"
   ]
  },
  {
   "cell_type": "markdown",
   "metadata": {},
   "source": [
    "### Shuffle()\n",
    "\n",
    "Tem a função de embaralhar dados\n"
   ]
  },
  {
   "cell_type": "code",
   "execution_count": 22,
   "metadata": {},
   "outputs": [
    {
     "name": "stdout",
     "output_type": "stream",
     "text": [
      "Help on method shuffle in module random:\n",
      "\n",
      "shuffle(x) method of random.Random instance\n",
      "    Shuffle list x in place, and return None.\n",
      "\n",
      "None\n",
      "['K', 'Q', 'J', 'A', '2', '3', '4', '5', '6', '7', '8', '9', '10']\n",
      "['A', 'K', '6', '7', 'J', '9', '4', '8', '10', 'Q', '3', '2', '5']\n",
      "5\n",
      "['A', 'K', '6', '7', 'J', '9', '4', '8', '10', 'Q', '3', '2']\n"
     ]
    }
   ],
   "source": [
    "from random import shuffle\n",
    "\n",
    "print(help(shuffle))\n",
    "cartas = ['K', 'Q', 'J', 'A', '2','3', '4', '5','6','7','8','9','10']\n",
    "\n",
    "print(cartas)\n",
    "\n",
    "shuffle(cartas) # enbaralhar as cartas\n",
    "\n",
    "print(cartas)\n",
    "\n",
    "print(cartas.pop()) # pegar a ultima carta\n",
    "print(cartas)"
   ]
  }
 ],
 "metadata": {
  "kernelspec": {
   "display_name": "Python 3",
   "language": "python",
   "name": "python3"
  },
  "language_info": {
   "codemirror_mode": {
    "name": "ipython",
    "version": 3
   },
   "file_extension": ".py",
   "mimetype": "text/x-python",
   "name": "python",
   "nbconvert_exporter": "python",
   "pygments_lexer": "ipython3",
   "version": "3.12.2"
  }
 },
 "nbformat": 4,
 "nbformat_minor": 2
}
