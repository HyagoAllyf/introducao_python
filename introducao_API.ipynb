{
 "cells": [
  {
   "cell_type": "markdown",
   "metadata": {},
   "source": [
    "# API Exemplo\n",
    "\n",
    "API(Application Programming Interface)\n",
    "\n",
    "Em poucas palavras é um programa feito para que conseguimos os dados de um local\n",
    "\n",
    " * Queremos pegar a cotação do dólar de forma automática\n",
    "\n",
    "https://economia.awesomeapi.com.br/json/last/:moedas\n",
    "\n",
    "* Mandar sms para uma lista telefonica\n",
    "\n",
    "https://www.twilio.com/docs/libraries/reference/twilio-python/"
   ]
  },
  {
   "cell_type": "code",
   "execution_count": 2,
   "metadata": {},
   "outputs": [
    {
     "name": "stdout",
     "output_type": "stream",
     "text": [
      "5.4329\n"
     ]
    }
   ],
   "source": [
    "import requests \n",
    "import json\n",
    "\n",
    "cotacoes = requests.get('https://economia.awesomeapi.com.br/last/USD-BRL,EUR-BRL,BTC-BRL')\n",
    "cotacoes = cotacoes.json()\n",
    "cotacao_dolar = cotacoes['USDBRL']['bid']\n",
    "#print(cotacoes)\n",
    "print(cotacao_dolar)"
   ]
  },
  {
   "cell_type": "markdown",
   "metadata": {},
   "source": [
    "# API IBGE\n",
    "\n",
    "https://servicodados.ibge.gov.br/api/docs/"
   ]
  },
  {
   "cell_type": "code",
   "execution_count": 14,
   "metadata": {},
   "outputs": [
    {
     "name": "stdout",
     "output_type": "stream",
     "text": [
      "[{'localidade': {'id': '1',\n",
      "                 'nivel': {'id': 'N1', 'nome': 'Brasil'},\n",
      "                 'nome': 'Brasil'},\n",
      "  'serie': {'2006': '1496422'}}]\n"
     ]
    }
   ],
   "source": [
    "# Exemplo com suínos\n",
    "\n",
    "import requests\n",
    "import pprint\n",
    "\n",
    "link = \"https://servicodados.ibge.gov.br/api/v3/agregados/4112/periodos/2006/variaveis/2586?localidades=N1[all]\"\n",
    "\n",
    "requisicao = requests.get(link)\n",
    "informacoes = requisicao.json()\n",
    "\n",
    "pprint.pprint(informacoes[0]['resultados'][0]['series'])\n",
    "\n",
    "item_busca = informacoes[0]['variavel']\n",
    "resultados = informacoes[0]['resultados'][0]['series']"
   ]
  },
  {
   "cell_type": "code",
   "execution_count": 15,
   "metadata": {},
   "outputs": [
    {
     "name": "stdout",
     "output_type": "stream",
     "text": [
      "Número de estabelecimentos agropecuários com suínos\n",
      "[{'localidade': {'id': '1', 'nivel': {'id': 'N1', 'nome': 'Brasil'}, 'nome': 'Brasil'}, 'serie': {'2006': '1496422'}}]\n"
     ]
    }
   ],
   "source": [
    "print(item_busca)\n",
    "print(resultados)"
   ]
  },
  {
   "cell_type": "code",
   "execution_count": 22,
   "metadata": {},
   "outputs": [
    {
     "name": "stdout",
     "output_type": "stream",
     "text": [
      "{'id': '10484',\n",
      " 'resultados': [{'classificacoes': [{'categoria': {'47952': 'Total'},\n",
      "                                     'id': '454',\n",
      "                                     'nome': 'Grupos taxonômicos, hábito ou '\n",
      "                                             'forma de vida'},\n",
      "                                    {'categoria': {'48243': 'Total'},\n",
      "                                     'id': '919',\n",
      "                                     'nome': 'Tipo de ambiente'},\n",
      "                                    {'categoria': {'48254': 'Total'},\n",
      "                                     'id': '920',\n",
      "                                     'nome': 'Biomas, mar e ilhas oceânicas'},\n",
      "                                    {'categoria': {'119363': 'Total'},\n",
      "                                     'id': '12920',\n",
      "                                     'nome': 'Categorias de risco'}],\n",
      "                 'series': [{'localidade': {'id': '1',\n",
      "                                            'nivel': {'id': 'N1',\n",
      "                                                      'nome': 'Brasil'},\n",
      "                                            'nome': 'Brasil'},\n",
      "                             'serie': {'2014': '16645'}}]}],\n",
      " 'unidade': 'Unidades',\n",
      " 'variavel': 'Número de espécies da fauna e da flora brasileira avaliadas '\n",
      "             'quanto ao risco de extinção'}\n"
     ]
    }
   ],
   "source": [
    "# espécies ameaçadas\n",
    "\n",
    "import requests\n",
    "import json\n",
    "import pprint\n",
    "\n",
    "link = 'https://servicodados.ibge.gov.br/api/v3/agregados/7392/periodos/2014/variaveis/10484?localidades=N1[all]'\n",
    "\n",
    "requisicao = requests.get(link)\n",
    "informacoes = requisicao.json()\n",
    "\n",
    "pprint.pprint(informacoes[0])\n",
    "\n",
    "item_busca = informacoes[0]['variavel']\n",
    "resultados = informacoes[0]['resultados'][0]['series']"
   ]
  }
 ],
 "metadata": {
  "kernelspec": {
   "display_name": "Python 3",
   "language": "python",
   "name": "python3"
  },
  "language_info": {
   "codemirror_mode": {
    "name": "ipython",
    "version": 3
   },
   "file_extension": ".py",
   "mimetype": "text/x-python",
   "name": "python",
   "nbconvert_exporter": "python",
   "pygments_lexer": "ipython3",
   "version": "3.12.2"
  }
 },
 "nbformat": 4,
 "nbformat_minor": 2
}
