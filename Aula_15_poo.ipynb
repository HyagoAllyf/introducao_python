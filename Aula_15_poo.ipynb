{
 "cells": [
  {
   "cell_type": "markdown",
   "metadata": {},
   "source": [
    "# Programação Orientada a objeto - POO\n",
    "\n",
    "- POO é um paradigma da programação que utiliza de mapeamento de objetos do mundo real para modelos computacionais\n",
    "\n",
    "- Paradigma de programação é a forma/metodologia utilizada para pensar/desenvolver sistemas.\n",
    "\n",
    "\n",
    "Principais elementos da Orientação a Objetos:\n",
    "- Classes -> Modelo do objeot do mundo real sendo representado computacionalmento\n",
    "\n",
    "- Atributo -> Características do objeto;\n",
    "\n",
    "- Método -> Comportamento do objeto (funções)\n",
    "\n",
    "- Construtor -> Método especial utilizado para criar os objetos;\n",
    "\n",
    "- Objeto -> Instância de classe."
   ]
  },
  {
   "cell_type": "code",
   "execution_count": 1,
   "metadata": {},
   "outputs": [
    {
     "name": "stdout",
     "output_type": "stream",
     "text": [
      "10\n",
      "<class 'int'>\n",
      "Geek\n",
      "<class 'str'>\n",
      "<__main__.Produto object at 0x00000195680EAB70>\n",
      "<class '__main__.Produto'>\n"
     ]
    }
   ],
   "source": [
    "numero = 10\n",
    "\n",
    "print(numero)\n",
    "print(type(numero))\n",
    "\n",
    "nome = 'Geek'\n",
    "print(nome)\n",
    "print(type(nome))\n",
    "\n",
    "class Produto:\n",
    "    pass\n",
    "\n",
    "ps4 = Produto()\n",
    "print(ps4)\n",
    "print(type(ps4))"
   ]
  },
  {
   "cell_type": "markdown",
   "metadata": {},
   "source": [
    "# Aula-3: Classe\n",
    "\n",
    "classe nada mais são do que módelos dos objetos do mundo real sendo representados compuciaonalmente.\n",
    "\n",
    "Imagine que você queira fazer um sistema para automatizar o controle das lâmpadas de sua casa.\n",
    "\n",
    "classes podem conter:\n",
    "\n",
    "    - Atributos -> Representam as características do objeto. Ou seja, pelos atributos conseguimos representar computacionalmente os estados do objeto. No caso, Lâmpada, possivelmente iríamos querer saber se a lâmpada é 110V ou 220V, se ele é branca, amarela, ou outra cor, qual é a luminosidade dela e etc.\n",
    "\n",
    "    - Métods (funções)-> Representam os comporatamentos do objeto. Ou seja, as ações que este objeto pode realizar no seu sistema. No caso da lâmpada, por exemplo, um comportamento comum que muito provavelmente iríamos querer representar no nosso sistema é o de ligar e desligar a mesma.\n",
    "\n",
    "Em Python, para definir uma classe utilizamos a palavra reservada 'class'.\n",
    "\n",
    "OBS: Utilizamos a palavra 'pass' em Python quanto temos um bloco de código que ainda não está implementado.\n",
    "\n",
    "OBS: Quando nomeamos nossas classes em Python utilizamos por convenção o nome com inicial em maiúsculo. Se o nome for composto, utiliza-se as iniciais de ambas as palavras em maiúsculo, todas juntas.\n",
    "\n",
    "Dicas Geek: Em computação não utilizamos: Acentuação, caracters especiais, espaço ou similares par nomes de classes, atríbutos, métodos, arquivos, diretórios e etc.\n",
    "\n",
    "OBS: as classes internais do Python estão em minúscula.\n",
    "\n",
    "OBS: Quando estamos planejando um software e definimos quais classes teremos no sistema, chamamos estes objetos que serão mapeados para classes de entidade."
   ]
  },
  {
   "cell_type": "code",
   "execution_count": 1,
   "metadata": {},
   "outputs": [
    {
     "name": "stdout",
     "output_type": "stream",
     "text": [
      "<class '__main__.Lampada'>\n"
     ]
    }
   ],
   "source": [
    "class Lampada: # entidade\n",
    "    pass\n",
    "\n",
    "class ContaCorrente: # entidade\n",
    "    pass\n",
    "\n",
    "class Produto: # entidade\n",
    "    pass\n",
    "\n",
    "class Usuario: # entidade\n",
    "    pass\n",
    "\n",
    "lamp = Lampada()\n",
    "print(type(lamp))"
   ]
  },
  {
   "cell_type": "markdown",
   "metadata": {},
   "source": [
    "# Aula-4: Atributos\n",
    "\n",
    "Atributos -> Representam as características do objeto. Ou seja, pelos atríbutos nós conseguimos representar computacionalmente os estados de um objeto.\n",
    "\n",
    "Em Python, dividimos os atributos em 3 grupos:\n",
    "- Atributos de Instância;\n",
    "- Atributos de Classe;\n",
    "- Atributos Dinâmicos.\n",
    "\n",
    "## Atributos de instância:\n",
    "\n",
    "São atributos declarados dentro de métodos construtor\n",
    "\n",
    "OBS: Método construtor: é um método especial utilizado para construir objetos.\n",
    "\n",
    "    "
   ]
  },
  {
   "cell_type": "code",
   "execution_count": 2,
   "metadata": {},
   "outputs": [],
   "source": [
    "def funcao(): # nao e uma metodo pois nao esta dentro de uma class\n",
    "    pass \n",
    "\n",
    "class Lampada:\n",
    "\n",
    "    def __init__(self, voltagem, cor): # metodo\n",
    "        self.voltagem = voltagem\n",
    "        self.cor = cor\n",
    "        self.ligada = False\n",
    "\n",
    "    \n",
    "class ContaCorrente:\n",
    "\n",
    "    def __init__(self, numero, limite, saldo):\n",
    "        self.numero = numero\n",
    "        self.limite = limite\n",
    "        self.saldo = saldo\n",
    "\n",
    "class Produto:\n",
    "\n",
    "    def __init__(self, nome , descricao, valor):\n",
    "        self.nome = nome\n",
    "        self.descricao = descricao\n",
    "        self.valor = valor\n",
    "\n",
    "class Usuario:\n",
    "\n",
    "    def __init__(self, nome, email, senha):\n",
    "        self.nome = nome\n",
    "        self.email = email\n",
    "        self.senha = senha\n",
    "\n",
    "# self é uma convencao. Pode receber qual quer nome. Ex:\n",
    "\n",
    "class Teste:\n",
    "    \n",
    "    def __init__(cerveja, nome, idade):\n",
    "        cerveja.nome = nome\n",
    "        cerveja.idade = idade\n",
    "ps4 = Produto()"
   ]
  },
  {
   "cell_type": "markdown",
   "metadata": {},
   "source": []
  },
  {
   "cell_type": "markdown",
   "metadata": {},
   "source": [
    "## Atributos Públicos e Atributos Privados\n",
    "\n",
    "Em python por convenção ficou estabelecido que todo atributo de uma é público, ou seja, pode ser acessado em todo o projeto. Caso queiramos demostrara que determinado atributo deve ser tratado como privado, ou seja que deve ser acessado/utilizado somente dentro da própria classe onde está declarado, utiliza-se '__'(duplo underscore) no início de seu nome.\n",
    "\n",
    "Isso é conhecido também com \"Name Mangling\"."
   ]
  },
  {
   "cell_type": "code",
   "execution_count": 3,
   "metadata": {},
   "outputs": [
    {
     "name": "stdout",
     "output_type": "stream",
     "text": [
      "user@gmail.com\n",
      "['_Acesso__senha', '__class__', '__delattr__', '__dict__', '__dir__', '__doc__', '__eq__', '__format__', '__ge__', '__getattribute__', '__getstate__', '__gt__', '__hash__', '__init__', '__init_subclass__', '__le__', '__lt__', '__module__', '__ne__', '__new__', '__reduce__', '__reduce_ex__', '__repr__', '__setattr__', '__sizeof__', '__str__', '__subclasshook__', '__weakref__', 'email', 'mostra_email', 'mostra_senha']\n",
      "123456\n",
      "123456\n",
      "user@gmail.com\n"
     ]
    }
   ],
   "source": [
    "# Exempo de Atributos Privados\n",
    "\n",
    "class Acesso:\n",
    "\n",
    "    def __init__(self, email, senha):\n",
    "        self.email = email\n",
    "        self.__senha = senha # AttributeError\n",
    "\n",
    "    def mostra_senha(self):\n",
    "        print(self.__senha)\n",
    "\n",
    "    def mostra_email(self):\n",
    "        print(self.email)\n",
    "# OBS: Lembre-se que isso é apenas uma conveção.\n",
    "# A linguagem Python não vai impedir que façamos acesso aos atributos sinalizados como privados for da classe\n",
    "\n",
    "user = Acesso('user@gmail.com', '123456')\n",
    "print(user.email)\n",
    "print(dir(user))\n",
    "print(user._Acesso__senha) # Temos acesso, mas não deveriamos fazer esse acesso\n",
    "# outra maneira\n",
    "\n",
    "user.mostra_senha()\n",
    "user.mostra_email()"
   ]
  },
  {
   "cell_type": "markdown",
   "metadata": {},
   "source": [
    "### O que siginifica atributos de instâncias?\n",
    "\n",
    "Significa, que ao criarmos instâncias/objtos de ums classe, todas as instâncias terão estes atributos."
   ]
  },
  {
   "cell_type": "code",
   "execution_count": 4,
   "metadata": {},
   "outputs": [
    {
     "name": "stdout",
     "output_type": "stream",
     "text": [
      "user1gmail.com\n",
      "user2gmail.com\n"
     ]
    }
   ],
   "source": [
    "user1 = Acesso('user1gmail.com', '123456')\n",
    "user2 = Acesso('user2gmail.com', '654321')\n",
    "\n",
    "user1.mostra_email()\n",
    "user2.mostra_email()"
   ]
  },
  {
   "cell_type": "markdown",
   "metadata": {},
   "source": [
    "## Atributos de Classe\n",
    "\n",
    "São atributos que são declarados diretamente na classe, ou seja, fora do construtor. Geralmente já inicializamos um valor, e este valor é compartilhado entre todas as instâncias da classe. Ou seja, ao invés de cada instância da classe ter seus próprios valores como é o cadso dos atributos de instância, com os atributos de classe todas as intâncias terão o mesmo valor para este atributo.\n",
    "\n",
    "OBS: Não precisamos criar uma instância de uma classe para ter acesso a um atributo de classe"
   ]
  },
  {
   "cell_type": "code",
   "execution_count": 7,
   "metadata": {},
   "outputs": [
    {
     "name": "stdout",
     "output_type": "stream",
     "text": [
      "1.05\n",
      "1.05\n",
      "2415.0\n",
      "4725.0\n",
      "1.05\n",
      "1\n",
      "2\n"
     ]
    }
   ],
   "source": [
    "\n",
    "class Produto:\n",
    "    # Atributo de classe\n",
    "    imposto = 1.05 # 0.05 de imposto\n",
    "    contador = 0\n",
    "\n",
    "    def __init__(self, nome , descricao, valor):\n",
    "        self.id = Produto.contador + 1\n",
    "        self.nome = nome\n",
    "        self.descricao = descricao\n",
    "        self.valor = (valor*Produto.imposto)\n",
    "        Produto.contador = self.id\n",
    "\n",
    "p1 = Produto('PlayStation 4', 'Video Game', 2300)\n",
    "p2 = Produto('Xbox S', 'Video Game', 4500)\n",
    "\n",
    "print(p1.imposto) # Acesso possíbel, mas incorreto de um atributo de classe\n",
    "print(p2.imposto)# Acesso possíbel, mas incorreto de um atributo de classe\n",
    "print(p1.valor)\n",
    "print(p2.valor)\n",
    "\n",
    "print(Produto.imposto) # Acesso correto de um atributo de classe\n",
    "\n",
    "print(p1.id)\n",
    "print(p2.id)"
   ]
  },
  {
   "cell_type": "markdown",
   "metadata": {},
   "source": [
    "## Atributos Dinâmicos\n",
    "\n",
    "Atributo de instância que pode ser criado em tempo de execução.\n",
    "\n",
    "OBS: O atributo dinâmico será exclusivo da instância que o criou\n",
    "\n"
   ]
  },
  {
   "cell_type": "code",
   "execution_count": 9,
   "metadata": {},
   "outputs": [
    {
     "name": "stdout",
     "output_type": "stream",
     "text": [
      "Produto: Arroz, Descrição:Mercearia, valor: 6.2895, peso: 5kg\n"
     ]
    }
   ],
   "source": [
    "p1 = Produto('PlayStation 4', 'Video Game', 2300)\n",
    "p2 = Produto('Arroz', 'Mercearia', 5.99)\n",
    "\n",
    "# Criando um atributo dinâmico em tempo de execução\n",
    "p2.peso = '5kg' # Note que na classe Produto não existe o produto peso\n",
    "\n",
    "print(f'Produto: {p2.nome}, Descrição:{p2.descricao}, valor: {p2.valor}, peso: {p2.peso}')"
   ]
  },
  {
   "cell_type": "markdown",
   "metadata": {},
   "source": [
    "### Deletando atributos\n",
    "\n"
   ]
  },
  {
   "cell_type": "code",
   "execution_count": 11,
   "metadata": {},
   "outputs": [
    {
     "name": "stdout",
     "output_type": "stream",
     "text": [
      "{'id': 5, 'nome': 'PlayStation 4', 'descricao': 'Video Game', 'valor': 2415.0}\n",
      "{'id': 6, 'nome': 'Arroz', 'descricao': 'Mercearia', 'valor': 6.2895, 'peso': '5kg'}\n",
      "{'id': 5, 'nome': 'PlayStation 4', 'descricao': 'Video Game', 'valor': 2415.0}\n",
      "{'id': 6, 'nome': 'Arroz', 'descricao': 'Mercearia', 'valor': 6.2895}\n"
     ]
    }
   ],
   "source": [
    "print(p1.__dict__)\n",
    "print(p2.__dict__)\n",
    "\n",
    "del p2.peso\n",
    "\n",
    "print(p1.__dict__)\n",
    "print(p2.__dict__)\n"
   ]
  },
  {
   "cell_type": "markdown",
   "metadata": {},
   "source": [
    "# Aula-5: Métodos\n",
    "\n",
    "- Métodos(funções) -> Representam os comportamentos do objetos, ou seja, as ações que este objeto pode realizar no seu sistema.\n",
    "\n",
    "Em Python, dividimos os métodos em dois grupos: Métodos de instância e Métodos de Classe.\n",
    "\n",
    "## Métodos de Instância\n",
    "\n",
    "O método dunder init __init__ é um método especial de construtor e sua função é construir o objeto a partir da classe.\n",
    "\n",
    "OBS: Todo elemento em Python que inicia e finaliza com um duplo underline é chamado de dunder (double Underline)\n",
    "\n",
    "OBS: Os métodos/funções dunder em Python são chamados de 'métodos mágicos'.\n",
    "\n",
    "ATENÇÃO! Por mais que possamos criar nossas próprias funções utilizando dunder, não é aconselhado. Python possui vários métodos com esta forma de nomenclatura e pode ser que mudemos o comportamento dessas funções mágicas internas da línguagem. Então, evite ao máximo. De preferência nunca o faça.\n",
    "\n",
    "OBS: Métodos são escritos em letras minúsculas. Se o nome for composto, o nome terá as palavras separadas por underline\n",
    "\n",
    "### Criptografia de senha \n",
    "\n",
    "Vamos usar uma biblioteca 'passlib' do Python para criptografar as senhas do usuário\n",
    "\n",
    "Métodos de Classe em Python são conhecidos como Métodos Estáticos em outras linguagens.\n",
    "\n",
    "### Métodos Estáticos\n",
    "\n"
   ]
  },
  {
   "cell_type": "code",
   "execution_count": 30,
   "metadata": {},
   "outputs": [
    {
     "name": "stdout",
     "output_type": "stream",
     "text": [
      "1840.0\n",
      "1380.0\n"
     ]
    }
   ],
   "source": [
    "class Lampada:\n",
    "    \n",
    "    def __init__(self, cor, voltagem, luminosidade):\n",
    "        self.__cor = cor\n",
    "        self.__voltagem = voltagem\n",
    "        self.__luminosidade = luminosidade\n",
    "        self.__ligada = False\n",
    "\n",
    "class ContaCorrente:\n",
    "\n",
    "    contador = 4999\n",
    "    \n",
    "    def __init__(self, numero, limite, saldo):\n",
    "        self.__numero = ContaCorrente.contador + 1\n",
    "        self.__limite = limite\n",
    "        self.__saldo = saldo\n",
    "\n",
    "class Produto:\n",
    "\n",
    "    contador = 0\n",
    "    \n",
    "    def __init__(self, nome, descricao, valor):\n",
    "        self.__id = Produto.contador + 1\n",
    "        self.__nome = nome\n",
    "        self.__descricao = descricao\n",
    "        self.__valor = valor\n",
    "        Produto.contador = self.__id\n",
    "\n",
    "    def desconto(self, porcentagem):\n",
    "        \"\"\"Retorna o valor do produto com desconto\"\"\"\n",
    "        return (self.__valor *(100 - porcentagem))/100\n",
    "    \n",
    "from passlib.hash import pbkdf2_sha256 as cryp \n",
    "\n",
    "class Usuario:\n",
    "\n",
    "    contador = 0\n",
    "\n",
    "    @classmethod\n",
    "    def conta_usuarios(cls):\n",
    "        print(f'Temos {cls.contador} usuário(s) no sistema')\n",
    "\n",
    "\n",
    "    @classmethod\n",
    "    def ver(cls):\n",
    "        print('Test')\n",
    "\n",
    "    @staticmethod\n",
    "    def definicao():\n",
    "        return 'UXR344'\n",
    "    \n",
    "    def __init__(self, nome, sobrenome, email, senha):\n",
    "        self.__id = Usuario.contador + 1\n",
    "        self.__nome = nome\n",
    "        self.__sobrenome = sobrenome\n",
    "        self.__email = email\n",
    "        self.__senha = cryp.hash(senha, rounds=20000, salt_size=16) # 20000 embaralhamento\n",
    "        Usuario.contador = self.__id\n",
    "        print(f'Usuário criado: {self.__gera__usuario()}')\n",
    "\n",
    "    def nome_completo(self):\n",
    "        return f'{self.__nome} {self.__sobrenome}'\n",
    "\n",
    "    def checa_senha(self, senha):\n",
    "        if cryp.verify(senha, self.__senha):\n",
    "            return True\n",
    "        return False\n",
    "    \n",
    "    def __gera__usuario(self):\n",
    "        return self.__email.split('@')[0]\n",
    "    \n",
    "    def __correr__(self, metros):\n",
    "        print(f'{self.__nome}Estour correndo {metros} metros')\n",
    "\n",
    "\n",
    "p1 = Produto('Playstation 4','Video Game', 2300)\n",
    "print(p1.desconto(20))\n",
    "print(Produto.desconto(p1, 40)) # self, desconto"
   ]
  },
  {
   "cell_type": "code",
   "execution_count": 10,
   "metadata": {},
   "outputs": [
    {
     "name": "stdout",
     "output_type": "stream",
     "text": [
      "Usuário criado com sucesso\n",
      "Acesso permitido\n",
      "Senha User Criptografada: $pbkdf2-sha256$20000$lPJey/l/7z3HGEMoxfgfAw$SR3zKu7dH3pigmb0EYQkN4gHbr1lFA2/Gn8prLmz2QU\n"
     ]
    },
    {
     "ename": "KeyboardInterrupt",
     "evalue": "Interrupted by user",
     "output_type": "error",
     "traceback": [
      "\u001b[1;31m---------------------------------------------------------------------------\u001b[0m",
      "\u001b[1;31mKeyboardInterrupt\u001b[0m                         Traceback (most recent call last)",
      "Cell \u001b[1;32mIn[20], line 3\u001b[0m\n\u001b[0;32m      1\u001b[0m \u001b[38;5;28;01mimport\u001b[39;00m \u001b[38;5;21;01msys\u001b[39;00m\n\u001b[1;32m----> 3\u001b[0m nome \u001b[38;5;241m=\u001b[39m \u001b[38;5;28;43minput\u001b[39;49m\u001b[43m(\u001b[49m\u001b[38;5;124;43m'\u001b[39;49m\u001b[38;5;124;43mInforme o nome: \u001b[39;49m\u001b[38;5;124;43m'\u001b[39;49m\u001b[43m)\u001b[49m\n\u001b[0;32m      4\u001b[0m sobrenome \u001b[38;5;241m=\u001b[39m \u001b[38;5;28minput\u001b[39m(\u001b[38;5;124m'\u001b[39m\u001b[38;5;124mInforme o sobrenome: \u001b[39m\u001b[38;5;124m'\u001b[39m)\n\u001b[0;32m      5\u001b[0m email \u001b[38;5;241m=\u001b[39m \u001b[38;5;28minput\u001b[39m(\u001b[38;5;124m'\u001b[39m\u001b[38;5;124mInforme o e-mail: \u001b[39m\u001b[38;5;124m'\u001b[39m)\n",
      "File \u001b[1;32m~\\AppData\\Roaming\\Python\\Python312\\site-packages\\ipykernel\\kernelbase.py:1282\u001b[0m, in \u001b[0;36mKernel.raw_input\u001b[1;34m(self, prompt)\u001b[0m\n\u001b[0;32m   1280\u001b[0m     msg \u001b[38;5;241m=\u001b[39m \u001b[38;5;124m\"\u001b[39m\u001b[38;5;124mraw_input was called, but this frontend does not support input requests.\u001b[39m\u001b[38;5;124m\"\u001b[39m\n\u001b[0;32m   1281\u001b[0m     \u001b[38;5;28;01mraise\u001b[39;00m StdinNotImplementedError(msg)\n\u001b[1;32m-> 1282\u001b[0m \u001b[38;5;28;01mreturn\u001b[39;00m \u001b[38;5;28;43mself\u001b[39;49m\u001b[38;5;241;43m.\u001b[39;49m\u001b[43m_input_request\u001b[49m\u001b[43m(\u001b[49m\n\u001b[0;32m   1283\u001b[0m \u001b[43m    \u001b[49m\u001b[38;5;28;43mstr\u001b[39;49m\u001b[43m(\u001b[49m\u001b[43mprompt\u001b[49m\u001b[43m)\u001b[49m\u001b[43m,\u001b[49m\n\u001b[0;32m   1284\u001b[0m \u001b[43m    \u001b[49m\u001b[38;5;28;43mself\u001b[39;49m\u001b[38;5;241;43m.\u001b[39;49m\u001b[43m_parent_ident\u001b[49m\u001b[43m[\u001b[49m\u001b[38;5;124;43m\"\u001b[39;49m\u001b[38;5;124;43mshell\u001b[39;49m\u001b[38;5;124;43m\"\u001b[39;49m\u001b[43m]\u001b[49m\u001b[43m,\u001b[49m\n\u001b[0;32m   1285\u001b[0m \u001b[43m    \u001b[49m\u001b[38;5;28;43mself\u001b[39;49m\u001b[38;5;241;43m.\u001b[39;49m\u001b[43mget_parent\u001b[49m\u001b[43m(\u001b[49m\u001b[38;5;124;43m\"\u001b[39;49m\u001b[38;5;124;43mshell\u001b[39;49m\u001b[38;5;124;43m\"\u001b[39;49m\u001b[43m)\u001b[49m\u001b[43m,\u001b[49m\n\u001b[0;32m   1286\u001b[0m \u001b[43m    \u001b[49m\u001b[43mpassword\u001b[49m\u001b[38;5;241;43m=\u001b[39;49m\u001b[38;5;28;43;01mFalse\u001b[39;49;00m\u001b[43m,\u001b[49m\n\u001b[0;32m   1287\u001b[0m \u001b[43m\u001b[49m\u001b[43m)\u001b[49m\n",
      "File \u001b[1;32m~\\AppData\\Roaming\\Python\\Python312\\site-packages\\ipykernel\\kernelbase.py:1325\u001b[0m, in \u001b[0;36mKernel._input_request\u001b[1;34m(self, prompt, ident, parent, password)\u001b[0m\n\u001b[0;32m   1322\u001b[0m \u001b[38;5;28;01mexcept\u001b[39;00m \u001b[38;5;167;01mKeyboardInterrupt\u001b[39;00m:\n\u001b[0;32m   1323\u001b[0m     \u001b[38;5;66;03m# re-raise KeyboardInterrupt, to truncate traceback\u001b[39;00m\n\u001b[0;32m   1324\u001b[0m     msg \u001b[38;5;241m=\u001b[39m \u001b[38;5;124m\"\u001b[39m\u001b[38;5;124mInterrupted by user\u001b[39m\u001b[38;5;124m\"\u001b[39m\n\u001b[1;32m-> 1325\u001b[0m     \u001b[38;5;28;01mraise\u001b[39;00m \u001b[38;5;167;01mKeyboardInterrupt\u001b[39;00m(msg) \u001b[38;5;28;01mfrom\u001b[39;00m \u001b[38;5;28;01mNone\u001b[39;00m\n\u001b[0;32m   1326\u001b[0m \u001b[38;5;28;01mexcept\u001b[39;00m \u001b[38;5;167;01mException\u001b[39;00m:\n\u001b[0;32m   1327\u001b[0m     \u001b[38;5;28mself\u001b[39m\u001b[38;5;241m.\u001b[39mlog\u001b[38;5;241m.\u001b[39mwarning(\u001b[38;5;124m\"\u001b[39m\u001b[38;5;124mInvalid Message:\u001b[39m\u001b[38;5;124m\"\u001b[39m, exc_info\u001b[38;5;241m=\u001b[39m\u001b[38;5;28;01mTrue\u001b[39;00m)\n",
      "\u001b[1;31mKeyboardInterrupt\u001b[0m: Interrupted by user"
     ]
    }
   ],
   "source": [
    "import sys\n",
    "\n",
    "nome = input('Informe o nome: ')\n",
    "sobrenome = input('Informe o sobrenome: ')\n",
    "email = input('Informe o e-mail: ')\n",
    "senha = input('Informe a senha: ')\n",
    "confirma_senha = input('Confirme a senha: ')\n",
    "\n",
    "if senha == confirma_senha: \n",
    "    user = Usuario(nome, sobrenome, email, senha)\n",
    "else:\n",
    "    print('Senha não confere ...')\n",
    "    sys.exit(1) # código de saída\n",
    "\n",
    "print('Usuário criado com sucesso')\n",
    "\n",
    "senha = input('Informe a senha para acesso: ')\n",
    "\n",
    "if user.checa_senha(senha):\n",
    "    print('Acesso permitido')\n",
    "else:\n",
    "    print('Acesso negado')\n",
    "print(f'Senha User Criptografada: {user._Usuario__senha}') # Acesso errado"
   ]
  },
  {
   "cell_type": "code",
   "execution_count": 16,
   "metadata": {},
   "outputs": [
    {
     "name": "stdout",
     "output_type": "stream",
     "text": [
      "Temos 1 usuário(s) no sistema\n",
      "Temos 1 usuário(s) no sistema\n"
     ]
    }
   ],
   "source": [
    "user = Usuario('Felicity', 'Jones', 'felicity@gmail.com', '123456')\n",
    "\n",
    "Usuario.conta_usuarios() # Forma correta\n",
    "user.conta_usuarios()    # Forma incorreta"
   ]
  },
  {
   "cell_type": "code",
   "execution_count": 19,
   "metadata": {},
   "outputs": [
    {
     "name": "stdout",
     "output_type": "stream",
     "text": [
      "['felicity', 'hotmail.com']\n",
      "felicity\n"
     ]
    }
   ],
   "source": [
    "# relembrando o split\n",
    "\n",
    "email = 'felicity@hotmail.com'\n",
    "print(email.split('@'))\n",
    "print(email.split('@')[0])"
   ]
  },
  {
   "cell_type": "code",
   "execution_count": 27,
   "metadata": {},
   "outputs": [
    {
     "name": "stdout",
     "output_type": "stream",
     "text": [
      "Usuário criado: felicity\n",
      "felicity\n"
     ]
    }
   ],
   "source": [
    "user= Usuario('Felicity', 'Jones', 'felicity@hotmail.com', '123456')\n",
    "\n",
    "print(user._Usuario__gera__usuario()) # Acesso de forma incorreta"
   ]
  },
  {
   "cell_type": "code",
   "execution_count": 32,
   "metadata": {},
   "outputs": [
    {
     "name": "stdout",
     "output_type": "stream",
     "text": [
      "1\n",
      "UXR344\n",
      "Usuário criado: felicity\n",
      "2\n",
      "UXR344\n"
     ]
    }
   ],
   "source": [
    "print(Usuario.contador)\n",
    "\n",
    "print(Usuario.definicao())\n",
    "\n",
    "user = Usuario('Felicity', 'Jones', 'felicity@hotmail.com', '123456')\n",
    "\n",
    "print(user.contador)\n",
    "print(user.definicao())"
   ]
  },
  {
   "cell_type": "markdown",
   "metadata": {},
   "source": [
    "## Aula-6: Objetos\n",
    "\n",
    "Objetos -> São instãncias da classe. Ou veja, após o mapeamento do objeto no mundo real para sua represtnetação computacionla, deveemos poder criar quantos objetos forem necessários. Podemos pensar nos objetos/instânciaas de uma classe como uma variável do tipo definido na clasee.\n"
   ]
  },
  {
   "cell_type": "code",
   "execution_count": 22,
   "metadata": {},
   "outputs": [
    {
     "name": "stdout",
     "output_type": "stream",
     "text": [
      "A lâmpada está ligada? False\n"
     ]
    }
   ],
   "source": [
    "class Lampada:\n",
    "    def __init__(self, cor, voltagem, luminosidade):\n",
    "        self.__cor = cor\n",
    "        self.__voltagem = voltagem\n",
    "        self.__luminosidade = luminosidade\n",
    "        self.__ligada = False\n",
    "\n",
    "    def checa_lampade(self):\n",
    "        return self.__ligada\n",
    "    \n",
    "    def ligar_desligar(self):\n",
    "        if self.__ligada:\n",
    "            self.__ligada = False\n",
    "        else:\n",
    "            self.__ligada = True\n",
    "        \n",
    "class Cliente:\n",
    "\n",
    "    def __init__(self, nome, cpf):\n",
    "        self.__nome = nome\n",
    "        self.__cpf = cpf\n",
    "    \n",
    "    def diz(self):\n",
    "        print(f'O cliente {self.__nome} diz oi')\n",
    "        \n",
    "\n",
    "class ContaCorrente:\n",
    "\n",
    "    contador = 4999\n",
    "\n",
    "    def __init__(self, limite, saldo, cliente):\n",
    "        self.__numero = ContaCorrente.contador\n",
    "        self.__limite = limite\n",
    "        self.__saldo = saldo\n",
    "        self.__cliente = cliente\n",
    "        ContaCorrente.contador = self.__numero\n",
    "\n",
    "    def mostra_cliente(self):\n",
    "        print(f'O cliente é {self.__cliente._Cliente__nome}')\n",
    "\n",
    "class Usuario:\n",
    "\n",
    "    def __init__(self, nome, sobrenome, email, senha):\n",
    "        self.__nome = nome\n",
    "        self.__sobrenome = sobrenome\n",
    "        self.__email = email\n",
    "        self.__senha = senha\n",
    "\n",
    "# Instâncias/Objetos\n",
    "lamp1 = Lampada('branca', 110, 60)\n",
    "lamp1.ligar_desligar()\n",
    "lamp1.ligar_desligar()\n",
    "print(f'A lâmpada está ligada? {lamp1.checa_lampade()}')\n",
    "\n"
   ]
  },
  {
   "cell_type": "code",
   "execution_count": 8,
   "metadata": {},
   "outputs": [
    {
     "ename": "TypeError",
     "evalue": "Lampada.__init__() missing 3 required positional arguments: 'cor', 'voltagem', and 'luminosidade'",
     "output_type": "error",
     "traceback": [
      "\u001b[1;31m---------------------------------------------------------------------------\u001b[0m",
      "\u001b[1;31mTypeError\u001b[0m                                 Traceback (most recent call last)",
      "Cell \u001b[1;32mIn[8], line 1\u001b[0m\n\u001b[1;32m----> 1\u001b[0m lamp \u001b[38;5;241m=\u001b[39m \u001b[43mLampada\u001b[49m\u001b[43m(\u001b[49m\u001b[43m)\u001b[49m \u001b[38;5;66;03m# Erro\u001b[39;00m\n",
      "\u001b[1;31mTypeError\u001b[0m: Lampada.__init__() missing 3 required positional arguments: 'cor', 'voltagem', and 'luminosidade'"
     ]
    }
   ],
   "source": [
    "lamp = Lampada() # Erro"
   ]
  },
  {
   "cell_type": "code",
   "execution_count": 13,
   "metadata": {},
   "outputs": [
    {
     "ename": "AttributeError",
     "evalue": "'Usuario' object has no attribute '__email'",
     "output_type": "error",
     "traceback": [
      "\u001b[1;31m---------------------------------------------------------------------------\u001b[0m",
      "\u001b[1;31mAttributeError\u001b[0m                            Traceback (most recent call last)",
      "Cell \u001b[1;32mIn[13], line 7\u001b[0m\n\u001b[0;32m      4\u001b[0m senha \u001b[38;5;241m=\u001b[39m \u001b[38;5;124m'\u001b[39m\u001b[38;5;124m123456\u001b[39m\u001b[38;5;124m'\u001b[39m\n\u001b[0;32m      6\u001b[0m user \u001b[38;5;241m=\u001b[39m Usuario(nome, sobrenome, email, senha)\n\u001b[1;32m----> 7\u001b[0m \u001b[38;5;28mprint\u001b[39m(\u001b[43muser\u001b[49m\u001b[38;5;241;43m.\u001b[39;49m\u001b[43m__email\u001b[49m())\n",
      "\u001b[1;31mAttributeError\u001b[0m: 'Usuario' object has no attribute '__email'"
     ]
    }
   ],
   "source": [
    "nome = 'Angelina'\n",
    "sobrenome = 'Jolie'\n",
    "email = 'angelina@gmail.com'\n",
    "senha = '123456'\n",
    "\n",
    "user = Usuario(nome, sobrenome, email, senha)\n"
   ]
  },
  {
   "cell_type": "code",
   "execution_count": 24,
   "metadata": {},
   "outputs": [
    {
     "name": "stdout",
     "output_type": "stream",
     "text": [
      "O cliente é Angelina\n",
      "O cliente Angelina diz oi\n"
     ]
    }
   ],
   "source": [
    "cli1 = Cliente('Angelina', '123.132.456-99')\n",
    "\n",
    "cc = ContaCorrente(5000, 10000, cli1)\n",
    "\n",
    "cc.mostra_cliente()\n",
    "\n",
    "cc._ContaCorrente__cliente.diz() # forma errada"
   ]
  },
  {
   "cell_type": "markdown",
   "metadata": {},
   "source": [
    "## Aula-07 Abstração e Encapsulamento\n",
    "\n",
    "O grande objeto da POO é encapsular nosso código dentro de um grupo lógico e hierárquico utilizando classes.\n",
    "\n",
    "Encapsular -> cápsula\n",
    "\n",
    "\n",
    "\n",
    "                classe\n",
    "-------------------------------------------\n",
    "/            atributos e métodos           /\n",
    "/__________________________________________/\n",
    "\n",
    "\n",
    "Relembrando Atributos/Métodos privados em Python\n",
    "\n",
    "Imagem que temos uma classe chamada Pessoa, contendo\n",
    "um atributo privado chamado__nome e um método privada chamando__falar()\n",
    "\n",
    "Esses elementos privados só devem/deveriam ser acessados dentro da clsse. Mas Python não bloqueia este acesso fara da classe. Com Python acontece um fenômino chamado Nome Nengling que faz uma alteração na forma de se acessar os elemetos. Conforme:\n",
    "\n",
    "_Classe_elemento\n",
    "\n",
    "Exemplo - Acessando elementos privados fora da classe:\n",
    "\n",
    "instancia._Pessoa_nome\n",
    "\n",
    "\n",
    "instancia._Pessoa_falar()\n",
    "\n",
    "Abstração em POO, é o ato de expor apenas dados relevantes de uma classe, escondendo atributos e métodos privados de usuários'\n",
    "\n"
   ]
  },
  {
   "cell_type": "code",
   "execution_count": 30,
   "metadata": {},
   "outputs": [],
   "source": [
    "class Conta:\n",
    "    contador = 400\n",
    "\n",
    "    def __init__(self, titular, saldo, limite):\n",
    "        self.numero = Conta.contador   # os atributos sao publicos\n",
    "        self.titular = titular     \n",
    "        self.saldo = saldo\n",
    "        self.limite = limite\n",
    "        Conta.contador += 1\n",
    "    \n",
    "    def extrato(self):\n",
    "        print(f'Saldo de {self.saldo} do titular {self.titular} com limite de {self.limite}')\n",
    "\n",
    "    def depositar(self, valor):\n",
    "        self.saldo += valor\n",
    "    \n",
    "    def sacar(self, valor):\n",
    "        self.saldo -= valor"
   ]
  },
  {
   "cell_type": "code",
   "execution_count": 31,
   "metadata": {},
   "outputs": [
    {
     "name": "stdout",
     "output_type": "stream",
     "text": [
      "400\n",
      "Geek\n",
      "150.0\n",
      "1500\n"
     ]
    }
   ],
   "source": [
    "# testando\n",
    "\n",
    "conta1 = Conta('Geek', 150.00, 1500)\n",
    "\n",
    "print(conta1.numero)\n",
    "print(conta1.titular)\n",
    "print(conta1.saldo)\n",
    "print(conta1.limite)"
   ]
  },
  {
   "cell_type": "code",
   "execution_count": 33,
   "metadata": {},
   "outputs": [
    {
     "name": "stdout",
     "output_type": "stream",
     "text": [
      "{'numero': 42, 'titular': 'Xuxa', 'saldo': 99999999999, 'limite': 999999999999999999999999}\n",
      "Saldo de 99999999999 do titular Xuxa com limite de 999999999999999999999999\n"
     ]
    }
   ],
   "source": [
    "conta1.numero = 42\n",
    "conta1.titular = 'Xuxa'\n",
    "conta1.saldo = 99999999999\n",
    "conta1.limite = 999999999999999999999999\n",
    "\n",
    "print(conta1.__dict__)\n",
    "conta1.extrato()"
   ]
  },
  {
   "cell_type": "code",
   "execution_count": 34,
   "metadata": {},
   "outputs": [],
   "source": [
    "# deixando todos privados\n",
    "class Conta:\n",
    "    contador = 400\n",
    "\n",
    "    def __init__(self, titular, saldo, limite):\n",
    "        self.__numero = Conta.contador   # os atributos sao publicos\n",
    "        self.__titular = titular     \n",
    "        self.__saldo = saldo\n",
    "        self.__limite = limite\n",
    "        Conta.contador += 1\n",
    "    \n",
    "    def extrato(self):\n",
    "        print(f'Saldo de {self.__saldo} do titular {self.__titular} com limite de {self.__limite}')\n",
    "\n",
    "    def depositar(self, valor):\n",
    "        self.__saldo += valor\n",
    "    \n",
    "    def sacar(self, valor):\n",
    "        self.__saldo -= valor"
   ]
  },
  {
   "cell_type": "code",
   "execution_count": 35,
   "metadata": {},
   "outputs": [
    {
     "ename": "AttributeError",
     "evalue": "'Conta' object has no attribute 'numero'",
     "output_type": "error",
     "traceback": [
      "\u001b[1;31m---------------------------------------------------------------------------\u001b[0m",
      "\u001b[1;31mAttributeError\u001b[0m                            Traceback (most recent call last)",
      "Cell \u001b[1;32mIn[35], line 3\u001b[0m\n\u001b[0;32m      1\u001b[0m conta1 \u001b[38;5;241m=\u001b[39m Conta(\u001b[38;5;124m'\u001b[39m\u001b[38;5;124mGeek\u001b[39m\u001b[38;5;124m'\u001b[39m, \u001b[38;5;241m150.00\u001b[39m, \u001b[38;5;241m1500\u001b[39m)\n\u001b[1;32m----> 3\u001b[0m \u001b[38;5;28mprint\u001b[39m(\u001b[43mconta1\u001b[49m\u001b[38;5;241;43m.\u001b[39;49m\u001b[43mnumero\u001b[49m)\n\u001b[0;32m      4\u001b[0m \u001b[38;5;28mprint\u001b[39m(conta1\u001b[38;5;241m.\u001b[39mtitular)\n\u001b[0;32m      5\u001b[0m \u001b[38;5;28mprint\u001b[39m(conta1\u001b[38;5;241m.\u001b[39msaldo)\n",
      "\u001b[1;31mAttributeError\u001b[0m: 'Conta' object has no attribute 'numero'"
     ]
    }
   ],
   "source": [
    "conta1 = Conta('Geek', 150.00, 1500)\n",
    "\n",
    "print(conta1.numero)\n",
    "print(conta1.titular)\n",
    "print(conta1.saldo)\n",
    "print(conta1.limite)"
   ]
  },
  {
   "cell_type": "code",
   "execution_count": 38,
   "metadata": {},
   "outputs": [
    {
     "name": "stdout",
     "output_type": "stream",
     "text": [
      "{'_Conta__numero': 400, '_Conta__titular': 'Geek', '_Conta__saldo': 150.0, '_Conta__limite': 1500}\n",
      "Geek\n",
      "{'_Conta__numero': 400, '_Conta__titular': 'Angelina', '_Conta__saldo': 150.0, '_Conta__limite': 1500}\n"
     ]
    }
   ],
   "source": [
    "print(conta1.__dict__)\n",
    "print(conta1._Conta__titular) # Name Mangling\n",
    "conta1._Conta__titular = 'Angelina'\n",
    "print(conta1.__dict__)"
   ]
  },
  {
   "cell_type": "code",
   "execution_count": null,
   "metadata": {},
   "outputs": [],
   "source": [
    "# terminei no tempo 26:24"
   ]
  }
 ],
 "metadata": {
  "kernelspec": {
   "display_name": "Python 3",
   "language": "python",
   "name": "python3"
  },
  "language_info": {
   "codemirror_mode": {
    "name": "ipython",
    "version": 3
   },
   "file_extension": ".py",
   "mimetype": "text/x-python",
   "name": "python",
   "nbconvert_exporter": "python",
   "pygments_lexer": "ipython3",
   "version": "3.12.2"
  }
 },
 "nbformat": 4,
 "nbformat_minor": 2
}
