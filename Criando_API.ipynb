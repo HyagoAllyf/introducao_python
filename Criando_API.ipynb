{
 "cells": [
  {
   "cell_type": "markdown",
   "metadata": {},
   "source": [
    "# API Exemplo\n",
    "\n",
    "API(Application Programming Interface)\n",
    "\n",
    "Em poucas palavras é um programa feito para que conseguimos os dados de um local\n",
    "\n",
    " * Queremos pegar a cotação do dólar de forma automática\n",
    "\n",
    "https://economia.awesomeapi.com.br/json/last/:moedas\n",
    "\n",
    "* Mandar sms para uma lista telefonica\n",
    "\n",
    "https://www.twilio.com/docs/libraries/reference/twilio-python/"
   ]
  },
  {
   "cell_type": "code",
   "execution_count": 9,
   "metadata": {},
   "outputs": [
    {
     "name": "stdout",
     "output_type": "stream",
     "text": [
      "5.4744\n"
     ]
    }
   ],
   "source": [
    "import requests \n",
    "import json\n",
    "\n",
    "cotacoes = requests.get('https://economia.awesomeapi.com.br/last/USD-BRL,EUR-BRL,BTC-BRL')\n",
    "cotacoes = cotacoes.json()\n",
    "cotacao_dolar = cotacoes['USDBRL']['bid']\n",
    "#print(cotacoes)\n",
    "print(cotacao_dolar)"
   ]
  }
 ],
 "metadata": {
  "kernelspec": {
   "display_name": "Python 3",
   "language": "python",
   "name": "python3"
  },
  "language_info": {
   "codemirror_mode": {
    "name": "ipython",
    "version": 3
   },
   "file_extension": ".py",
   "mimetype": "text/x-python",
   "name": "python",
   "nbconvert_exporter": "python",
   "pygments_lexer": "ipython3",
   "version": "3.12.2"
  }
 },
 "nbformat": 4,
 "nbformat_minor": 2
}
